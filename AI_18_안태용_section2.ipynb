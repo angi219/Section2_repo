{
  "nbformat": 4,
  "nbformat_minor": 0,
  "metadata": {
    "colab": {
      "provenance": []
    },
    "kernelspec": {
      "name": "python3",
      "display_name": "Python 3"
    },
    "language_info": {
      "name": "python"
    }
  },
  "cells": [
    {
      "cell_type": "code",
      "execution_count": 1,
      "metadata": {
        "id": "T58xIOLI5H9d"
      },
      "outputs": [],
      "source": [
        "import requests\n",
        "import urllib\n",
        "import json\n",
        "import datetime\n",
        "import time\n",
        "import csv\n",
        "import pandas as pd\n",
        "import numpy as np"
      ]
    },
    {
      "cell_type": "code",
      "source": [
        "api_key = 'RGAPI-7640cf2f-d2e1-4e5f-9a0c-9d9c7686bdb9'"
      ],
      "metadata": {
        "id": "PeOdCvTv5piY"
      },
      "execution_count": 2,
      "outputs": []
    },
    {
      "cell_type": "markdown",
      "source": [
        "---"
      ],
      "metadata": {
        "id": "qSmXZmgl5uNS"
      }
    },
    {
      "cell_type": "code",
      "source": [
        "headers = {\n",
        "    \"User-Agent\": \"Mozilla/5.0 (Windows NT 10.0; Win64; x64) AppleWebKit/537.36 (KHTML, like Gecko) Chrome/98.0.4758.82 Safari/537.36\",\n",
        "    \"Accept-Language\": \"ko-KR,ko;q=0.9,en-US;q=0.8,en;q=0.7\",\n",
        "    \"Accept-Charset\": \"application/x-www-form-urlencoded; charset=UTF-8\",\n",
        "    \"Origin\": \"https://developer.riotgames.com\",\n",
        "    \"X-Riot-Token\": api_key\n",
        "}"
      ],
      "metadata": {
        "id": "WOKIOCRE5uv5"
      },
      "execution_count": 3,
      "outputs": []
    },
    {
      "cell_type": "code",
      "source": [
        "user_name = 'Spice and WoIf'\n",
        "\n",
        "user_name = user_name.replace(' ','%20')\n",
        "request_url = f'https://kr.api.riotgames.com/lol/summoner/v4/summoners/by-name/{user_name}'"
      ],
      "metadata": {
        "id": "P4yzD3YC5066"
      },
      "execution_count": 4,
      "outputs": []
    },
    {
      "cell_type": "code",
      "source": [
        "today = datetime.datetime.today()\n",
        "\n",
        "year = today.year\n",
        "month = today.month\n",
        "day = today.day\n",
        "hour = today.hour"
      ],
      "metadata": {
        "id": "x8txuQnK6JqD"
      },
      "execution_count": 5,
      "outputs": []
    },
    {
      "cell_type": "code",
      "source": [
        "response = requests.get(request_url, headers = headers)\n",
        "result = response.json()\n",
        "print('Status Code : ',response)"
      ],
      "metadata": {
        "colab": {
          "base_uri": "https://localhost:8080/"
        },
        "id": "nn7YVOIw6L84",
        "outputId": "10592503-9e7a-4e58-91f1-f94b79758bcc"
      },
      "execution_count": 6,
      "outputs": [
        {
          "output_type": "stream",
          "name": "stdout",
          "text": [
            "Status Code :  <Response [200]>\n"
          ]
        }
      ]
    },
    {
      "cell_type": "code",
      "source": [
        "res = urllib.request.Request(request_url)\n",
        "\n",
        "for key,value in headers.items() : \n",
        "    res.add_header(key, value)\n",
        "response = urllib.request.urlopen(res)\n",
        "result = response.readlines()\n",
        "\n",
        "result = json.loads(result[0].decode('utf-8'))\n",
        "\n",
        "print('Status Code : ',response.getcode())"
      ],
      "metadata": {
        "colab": {
          "base_uri": "https://localhost:8080/"
        },
        "id": "fY_nCGsk6Nk6",
        "outputId": "a3c919ce-c0c5-438f-9b71-17f9d45bebc1"
      },
      "execution_count": 7,
      "outputs": [
        {
          "output_type": "stream",
          "name": "stdout",
          "text": [
            "Status Code :  200\n"
          ]
        }
      ]
    },
    {
      "cell_type": "code",
      "source": [
        "user_puuid = result.get('puuid')\n",
        "user_name = result.get('name')\n",
        "user_level = result.get('summonerLevel')\n",
        "\n",
        "print(f'{year}년 {month}월 {day}일 {hour}시 기준\\n{user_name} : {user_level}레벨')"
      ],
      "metadata": {
        "colab": {
          "base_uri": "https://localhost:8080/"
        },
        "id": "P-YnfEFJ6F9_",
        "outputId": "b3592fac-4a85-44f1-e8bd-7c5d885910bd"
      },
      "execution_count": 8,
      "outputs": [
        {
          "output_type": "stream",
          "name": "stdout",
          "text": [
            "2023년 4월 12일 6시 기준\n",
            "Spice and WoIf : 84레벨\n"
          ]
        }
      ]
    },
    {
      "cell_type": "markdown",
      "source": [
        "---"
      ],
      "metadata": {
        "id": "6w6b2rZk6WQJ"
      }
    },
    {
      "cell_type": "code",
      "source": [
        "user_puuid = 'NfnmXzBi9XqUFwwUzBfMLeBEXJombjPpLSJISDJ_7jVMTdkwUdGAH4t0DXg2Ff6nXxGFLtBxSiVKZA'"
      ],
      "metadata": {
        "id": "OBNHrs7z7Cy-"
      },
      "execution_count": 9,
      "outputs": []
    },
    {
      "cell_type": "code",
      "source": [
        "request_url = f'https://asia.api.riotgames.com/tft/match/v1/matches/by-puuid/{user_puuid}/ids'"
      ],
      "metadata": {
        "id": "0DJYNDNM6XAM"
      },
      "execution_count": 10,
      "outputs": []
    },
    {
      "cell_type": "code",
      "source": [
        "start_time = datetime.datetime(2022,1,1,0,0) # 1월 1일 0시 0분\n",
        "start_time = int(time.mktime(start_time.timetuple()))\n",
        "print(start_time)\n",
        "\n",
        "end_time = datetime.datetime(2022,1,31,23,59,59) # 1월 31일 23시 59분\n",
        "end_time = int(time.mktime(end_time.timetuple()))\n",
        "print(end_time)"
      ],
      "metadata": {
        "colab": {
          "base_uri": "https://localhost:8080/"
        },
        "id": "JAsgw_6X7MHM",
        "outputId": "5cf2206d-9df1-4776-d68a-a02e27569509"
      },
      "execution_count": 11,
      "outputs": [
        {
          "output_type": "stream",
          "name": "stdout",
          "text": [
            "1640995200\n",
            "1643673599\n"
          ]
        }
      ]
    },
    {
      "cell_type": "markdown",
      "source": [
        "---"
      ],
      "metadata": {
        "id": "ZVzrJlgG7Ujs"
      }
    },
    {
      "cell_type": "code",
      "source": [
        "request_url = f'https://asia.api.riotgames.com/tft/match/v1/matches/by-puuid/{user_puuid}/ids'"
      ],
      "metadata": {
        "id": "1uun1P2E8bOz"
      },
      "execution_count": 12,
      "outputs": []
    },
    {
      "cell_type": "code",
      "source": [
        "response = requests.get(request_url, headers = headers)\n",
        "matches = response.json()\n",
        "print('Status Code : ',response)\n",
        "matches"
      ],
      "metadata": {
        "colab": {
          "base_uri": "https://localhost:8080/"
        },
        "id": "tVVdl5wH7VDA",
        "outputId": "7e1cb4e9-40c5-4f35-e8ce-ef4da02d9450"
      },
      "execution_count": 13,
      "outputs": [
        {
          "output_type": "stream",
          "name": "stdout",
          "text": [
            "Status Code :  <Response [200]>\n"
          ]
        },
        {
          "output_type": "execute_result",
          "data": {
            "text/plain": [
              "['KR_6447351927',\n",
              " 'KR_6446079620',\n",
              " 'KR_6439595205',\n",
              " 'KR_6439584404',\n",
              " 'KR_6439570738',\n",
              " 'KR_6438606244',\n",
              " 'KR_6438555648',\n",
              " 'KR_6438522957',\n",
              " 'KR_6438423578',\n",
              " 'KR_6438399984',\n",
              " 'KR_6438359514',\n",
              " 'KR_6438343623',\n",
              " 'KR_6437185137',\n",
              " 'KR_6437147016',\n",
              " 'KR_6436940454',\n",
              " 'KR_6436917645',\n",
              " 'KR_6436887401',\n",
              " 'KR_6436844903',\n",
              " 'KR_6436814646',\n",
              " 'KR_6436762876']"
            ]
          },
          "metadata": {},
          "execution_count": 13
        }
      ]
    },
    {
      "cell_type": "markdown",
      "source": [
        "---"
      ],
      "metadata": {
        "id": "WE5a20Ib8hCy"
      }
    },
    {
      "cell_type": "code",
      "source": [
        "request_url = f'https://asia.api.riotgames.com/tft/match/v1/matches/{matches[0]}'\n",
        "response = requests.get(request_url, headers = headers)\n",
        "match_result = response.json()\n",
        "print('Status Code : ',response)"
      ],
      "metadata": {
        "colab": {
          "base_uri": "https://localhost:8080/"
        },
        "id": "zSLZKOVA7ZGe",
        "outputId": "58978ff6-a968-45ec-8aca-7e0fb20b0a63"
      },
      "execution_count": 14,
      "outputs": [
        {
          "output_type": "stream",
          "name": "stdout",
          "text": [
            "Status Code :  <Response [200]>\n"
          ]
        }
      ]
    },
    {
      "cell_type": "code",
      "source": [
        "with open('/item_list.csv', 'r', encoding='EUC-KR') as csv_file:\n",
        "    csv_reader = csv.DictReader(csv_file)\n",
        "    items_list = [row['Name'] for row in csv_reader]\n",
        "    for row in csv_reader:\n",
        "        print(row)"
      ],
      "metadata": {
        "id": "hkBbp9p79ldM"
      },
      "execution_count": 15,
      "outputs": []
    },
    {
      "cell_type": "code",
      "source": [
        "items_list"
      ],
      "metadata": {
        "colab": {
          "base_uri": "https://localhost:8080/"
        },
        "id": "2A1BjD-9_g4d",
        "outputId": "dc1724b9-8371-4598-ea1d-2b92e92b778e"
      },
      "execution_count": 16,
      "outputs": [
        {
          "output_type": "execute_result",
          "data": {
            "text/plain": [
              "['최후의 속삭임',\n",
              " '영겁의 속삭임',\n",
              " '죽음의 검',\n",
              " '무한의 대검',\n",
              " '빛나는 죽음의 검',\n",
              " '천공의 대검',\n",
              " '우르프 천사의 지팡이',\n",
              " '모렐로노미콘',\n",
              " '라바돈의 초월한 죽음모자',\n",
              " '눈부신 건틀릿',\n",
              " '대천사의 지팡이',\n",
              " '보석 건틀릿',\n",
              " '엔젤로노미콘',\n",
              " '라바돈의 죽음모자',\n",
              " '스태틱의 호의',\n",
              " '스태틱의 단검',\n",
              " '집단 충격기',\n",
              " '자화 이온 충격기',\n",
              " '이온 충격기',\n",
              " 'B.F. 대검',\n",
              " '쓸데없이 큰 지팡이',\n",
              " '쇠사슬 조끼',\n",
              " '곡궁',\n",
              " '뒤집개',\n",
              " '여신의 눈물',\n",
              " '거인의 허리띠',\n",
              " '음전자 망토',\n",
              " '연습용 장갑',\n",
              " 'tft_item_name_FracturedMirrorEmptySlot',\n",
              " '마법공학 생명검',\n",
              " '구인수의 격노검',\n",
              " '히라나의 창',\n",
              " '악마 학살자',\n",
              " '방패파괴자',\n",
              " '피바라기',\n",
              " '푸른 축복',\n",
              " '쇼진의 창',\n",
              " '밤의 끝자락',\n",
              " '마나자네',\n",
              " '구인수의 심판',\n",
              " '공정의 주먹',\n",
              " '수은',\n",
              " '거인 학살자',\n",
              " '과부하_ 오류 // 거인 학살자 ',\n",
              " '축복받은 피바라기',\n",
              " '푸른 파수꾼',\n",
              " '의지파괴자',\n",
              " '톱날 피바라기',\n",
              " '용수철이 든 고속 연사포',\n",
              " '루난의 폭풍',\n",
              " '죽음의 저항',\n",
              " '반짝이는 수은',\n",
              " '마법공학 총검',\n",
              " '새벽의 서광',\n",
              " '흑요석 양날 도끼',\n",
              " '날뛰는 쇼진의 창',\n",
              " '거인의 맹세',\n",
              " '고속 연사포',\n",
              " '무한한 삼위일체',\n",
              " '황금 징수의 총',\n",
              " '고속 광자포',\n",
              " '비결정적 정의의 손길',\n",
              " '루난의 허리케인',\n",
              " '정의의 손길',\n",
              " '거인의 결의',\n",
              " '기계유망주 상징',\n",
              " '선의 상징',\n",
              " '황소부대 상징',\n",
              " '주문투척자 상징',\n",
              " '정찰단 상징',\n",
              " '별 수호자 상징',\n",
              " '자동방어체계 문장',\n",
              " '해커 상징',\n",
              " '마스코트 상징',\n",
              " '레이저단 상징',\n",
              " '에이스 상징',\n",
              " '메카: 프라임 상징',\n",
              " '지하세계 상징',\n",
              " '싸움꾼 상징',\n",
              " '익살꾼 상징',\n",
              " '무법자 상징',\n",
              " '결투가 상징',\n",
              " '특등사수 상징',\n",
              " '동물특공대 상징',\n",
              " '민간인 상징',\n",
              " '방패대 상징',\n",
              " '엄호대 상징',\n",
              " '가고일 돌갑옷',\n",
              " '영혼의 형상',\n",
              " '구원',\n",
              " '강철의 솔라리 펜던트',\n",
              " '태양불꽃 망토',\n",
              " '수호자의 맹세',\n",
              " '즈롯 소환문',\n",
              " '영원한 겨울',\n",
              " '워모그의 갑옷',\n",
              " '수호상 돌갑옷',\n",
              " '과열된 태양불꽃 망토',\n",
              " '덤불 조끼',\n",
              " '타곤 정상의 펜던트',\n",
              " '철갑의 서약',\n",
              " '면죄',\n",
              " '란두인의 성소',\n",
              " '유도집전형 워모그의 갑옷',\n",
              " '장미가시 조끼',\n",
              " '태양빛 망토',\n",
              " '워모그의 자부심',\n",
              " '용의 발톱',\n",
              " '용의 의지',\n",
              " '힘의 성배',\n",
              " '서풍',\n",
              " '겨울바람',\n",
              " '로켓 주먹',\n",
              " '경외의 장막',\n",
              " '존야의 역설',\n",
              " '지크의 전령',\n",
              " '지크의 조화',\n",
              " '더 고요한 침묵의 장막',\n",
              " '즈롯 차원문',\n",
              " '선의의 성배',\n",
              " '장난꾸러기의 장갑',\n",
              " '도적의 장갑',\n",
              " '전략가의 왕관',\n",
              " '침묵의 장막']"
            ]
          },
          "metadata": {},
          "execution_count": 16
        }
      ]
    },
    {
      "cell_type": "code",
      "source": [
        "items_dict = {name: idx for idx, name in enumerate(items_list)}"
      ],
      "metadata": {
        "id": "OVSGHHcRAKGM"
      },
      "execution_count": 17,
      "outputs": []
    },
    {
      "cell_type": "code",
      "source": [
        "items_dict"
      ],
      "metadata": {
        "colab": {
          "base_uri": "https://localhost:8080/"
        },
        "id": "BQl1eYtjAc2s",
        "outputId": "2d502f4e-a55f-4b03-996b-4ff63314a1a3"
      },
      "execution_count": 18,
      "outputs": [
        {
          "output_type": "execute_result",
          "data": {
            "text/plain": [
              "{'최후의 속삭임': 0,\n",
              " '영겁의 속삭임': 1,\n",
              " '죽음의 검': 2,\n",
              " '무한의 대검': 3,\n",
              " '빛나는 죽음의 검': 4,\n",
              " '천공의 대검': 5,\n",
              " '우르프 천사의 지팡이': 6,\n",
              " '모렐로노미콘': 7,\n",
              " '라바돈의 초월한 죽음모자': 8,\n",
              " '눈부신 건틀릿': 9,\n",
              " '대천사의 지팡이': 10,\n",
              " '보석 건틀릿': 11,\n",
              " '엔젤로노미콘': 12,\n",
              " '라바돈의 죽음모자': 13,\n",
              " '스태틱의 호의': 14,\n",
              " '스태틱의 단검': 15,\n",
              " '집단 충격기': 16,\n",
              " '자화 이온 충격기': 17,\n",
              " '이온 충격기': 18,\n",
              " 'B.F. 대검': 19,\n",
              " '쓸데없이 큰 지팡이': 20,\n",
              " '쇠사슬 조끼': 21,\n",
              " '곡궁': 22,\n",
              " '뒤집개': 23,\n",
              " '여신의 눈물': 24,\n",
              " '거인의 허리띠': 25,\n",
              " '음전자 망토': 26,\n",
              " '연습용 장갑': 27,\n",
              " 'tft_item_name_FracturedMirrorEmptySlot': 28,\n",
              " '마법공학 생명검': 29,\n",
              " '구인수의 격노검': 30,\n",
              " '히라나의 창': 31,\n",
              " '악마 학살자': 32,\n",
              " '방패파괴자': 33,\n",
              " '피바라기': 34,\n",
              " '푸른 축복': 35,\n",
              " '쇼진의 창': 36,\n",
              " '밤의 끝자락': 37,\n",
              " '마나자네': 38,\n",
              " '구인수의 심판': 39,\n",
              " '공정의 주먹': 40,\n",
              " '수은': 41,\n",
              " '거인 학살자': 42,\n",
              " '과부하_ 오류 // 거인 학살자 ': 43,\n",
              " '축복받은 피바라기': 44,\n",
              " '푸른 파수꾼': 45,\n",
              " '의지파괴자': 46,\n",
              " '톱날 피바라기': 47,\n",
              " '용수철이 든 고속 연사포': 48,\n",
              " '루난의 폭풍': 49,\n",
              " '죽음의 저항': 50,\n",
              " '반짝이는 수은': 51,\n",
              " '마법공학 총검': 52,\n",
              " '새벽의 서광': 53,\n",
              " '흑요석 양날 도끼': 54,\n",
              " '날뛰는 쇼진의 창': 55,\n",
              " '거인의 맹세': 56,\n",
              " '고속 연사포': 57,\n",
              " '무한한 삼위일체': 58,\n",
              " '황금 징수의 총': 59,\n",
              " '고속 광자포': 60,\n",
              " '비결정적 정의의 손길': 61,\n",
              " '루난의 허리케인': 62,\n",
              " '정의의 손길': 63,\n",
              " '거인의 결의': 64,\n",
              " '기계유망주 상징': 65,\n",
              " '선의 상징': 66,\n",
              " '황소부대 상징': 67,\n",
              " '주문투척자 상징': 68,\n",
              " '정찰단 상징': 69,\n",
              " '별 수호자 상징': 70,\n",
              " '자동방어체계 문장': 71,\n",
              " '해커 상징': 72,\n",
              " '마스코트 상징': 73,\n",
              " '레이저단 상징': 74,\n",
              " '에이스 상징': 75,\n",
              " '메카: 프라임 상징': 76,\n",
              " '지하세계 상징': 77,\n",
              " '싸움꾼 상징': 78,\n",
              " '익살꾼 상징': 79,\n",
              " '무법자 상징': 80,\n",
              " '결투가 상징': 81,\n",
              " '특등사수 상징': 82,\n",
              " '동물특공대 상징': 83,\n",
              " '민간인 상징': 84,\n",
              " '방패대 상징': 85,\n",
              " '엄호대 상징': 86,\n",
              " '가고일 돌갑옷': 87,\n",
              " '영혼의 형상': 88,\n",
              " '구원': 89,\n",
              " '강철의 솔라리 펜던트': 90,\n",
              " '태양불꽃 망토': 91,\n",
              " '수호자의 맹세': 92,\n",
              " '즈롯 소환문': 93,\n",
              " '영원한 겨울': 94,\n",
              " '워모그의 갑옷': 95,\n",
              " '수호상 돌갑옷': 96,\n",
              " '과열된 태양불꽃 망토': 97,\n",
              " '덤불 조끼': 98,\n",
              " '타곤 정상의 펜던트': 99,\n",
              " '철갑의 서약': 100,\n",
              " '면죄': 101,\n",
              " '란두인의 성소': 102,\n",
              " '유도집전형 워모그의 갑옷': 103,\n",
              " '장미가시 조끼': 104,\n",
              " '태양빛 망토': 105,\n",
              " '워모그의 자부심': 106,\n",
              " '용의 발톱': 107,\n",
              " '용의 의지': 108,\n",
              " '힘의 성배': 109,\n",
              " '서풍': 110,\n",
              " '겨울바람': 111,\n",
              " '로켓 주먹': 112,\n",
              " '경외의 장막': 113,\n",
              " '존야의 역설': 114,\n",
              " '지크의 전령': 115,\n",
              " '지크의 조화': 116,\n",
              " '더 고요한 침묵의 장막': 117,\n",
              " '즈롯 차원문': 118,\n",
              " '선의의 성배': 119,\n",
              " '장난꾸러기의 장갑': 120,\n",
              " '도적의 장갑': 121,\n",
              " '전략가의 왕관': 122,\n",
              " '침묵의 장막': 123}"
            ]
          },
          "metadata": {},
          "execution_count": 18
        }
      ]
    },
    {
      "cell_type": "markdown",
      "source": [
        "---"
      ],
      "metadata": {
        "id": "_vCk34iKBUlj"
      }
    },
    {
      "cell_type": "code",
      "source": [
        "match_user_info = [x for x in match_result.get('info').get('participants') if x.get('puuid') == user_puuid][0]"
      ],
      "metadata": {
        "id": "23nvUGn1BVG_"
      },
      "execution_count": 19,
      "outputs": []
    },
    {
      "cell_type": "code",
      "source": [
        "total_damage_to_players = match_user_info.get('total_damage_to_players')\n",
        "players_eliminated = match_user_info.get('players_eliminated')\n",
        "gold_left = match_user_info.get('gold_left')\n",
        "level = match_user_info.get('level')\n",
        "last_round = match_user_info.get('last_round')\n",
        "placement = match_user_info.get('placement')"
      ],
      "metadata": {
        "id": "XhBhnYMpBaNd"
      },
      "execution_count": 20,
      "outputs": []
    },
    {
      "cell_type": "code",
      "source": [
        "match_user_traits =  match_user_info.get('traits')\n",
        "match_user_units =  match_user_info.get('units')"
      ],
      "metadata": {
        "id": "eO18hYuKBcAQ"
      },
      "execution_count": 21,
      "outputs": []
    },
    {
      "cell_type": "code",
      "source": [
        "total_damage_to_players = 0\n",
        "players_eliminated = 0\n",
        "gold_left = 0\n",
        "level = 0\n",
        "last_round = 0\n",
        "placement = 0\n",
        "\n",
        "match_traits = {}\n",
        "match_units = {}\n",
        "match_items = {}\n",
        "\n",
        "for match in matches : \n",
        "    request_url = f'https://asia.api.riotgames.com/tft/match/v1/matches/{match}'\n",
        "    response = requests.get(request_url, headers = headers)\n",
        "    match_result = response.json()\n",
        "    \n",
        "    match_user_info = [x for x in match_result.get('info').get('participants') if x.get('puuid') == user_puuid][0]\n",
        "    total_damage_to_players += match_user_info.get('total_damage_to_players')\n",
        "    players_eliminated += match_user_info.get('players_eliminated')\n",
        "    gold_left += match_user_info.get('gold_left')\n",
        "    level += match_user_info.get('level')\n",
        "    last_round += match_user_info.get('last_round')\n",
        "    placement += match_user_info.get('placement')\n",
        "    match_user_traits =  match_user_info.get('traits')\n",
        "    match_user_units =  match_user_info.get('units')\n",
        "    \n",
        "    match_traits.update({trait : match_traits.get(trait,0)+unit_num for trait, unit_num in [[x.get('name'), x.get('num_units')] for x in match_user_traits]})\n",
        "    match_units.update({character : match_units.get(character,0)+1 for character, tier in [[x.get('character_id'), x.get('tier')] for x in match_user_units]})\n",
        "    for item in [item for items in [x.get('items_list') for x in match_user_units] for item in items_list] : \n",
        "        match_items[item] = match_items.get(item,0) + 1"
      ],
      "metadata": {
        "id": "qq5afuJFBdiF"
      },
      "execution_count": 22,
      "outputs": []
    },
    {
      "cell_type": "code",
      "source": [
        "print(f\"\"\"\n",
        "한 판당 평균 가한 데미지       : {total_damage_to_players / 20}\n",
        "한 판당 평균 제거 적의 수      : {players_eliminated / 20}\n",
        "한 판당 평균 남긴 골드 량      : {gold_left / 20}\n",
        "한 판당 평균 레벨              : {level / 20}\n",
        "한 판당 평균 살아남은 라운드   : {last_round / 20}\n",
        "한 판당 평균 순위              : {placement / 20}\n",
        "\n",
        "20판동안 가장 많이 사용한 특성 : {[x[0] for x in sorted([[trait, num] for trait, num in match_traits.items()], key = lambda x: x[1], reverse= True)[:5]]},\n",
        "20판동안 가장 많이 사용한 유닛 : {[x[0] for x in sorted([[unit, num] for unit, num in match_units.items()], key = lambda x: x[1], reverse= True)[:5]]},\n",
        "20판동안 가장 많이 사용한 템   : {[items_dict.get(x[0]) for x in sorted([[item, num] for item, num in match_items.items()], key = lambda x: x[1], reverse= True)[:5]]},\n",
        "\n",
        "\"\"\")"
      ],
      "metadata": {
        "colab": {
          "base_uri": "https://localhost:8080/"
        },
        "id": "oqwlmXl4B_rf",
        "outputId": "f547f61a-f5f1-4583-cebf-d5adb754e444"
      },
      "execution_count": 23,
      "outputs": [
        {
          "output_type": "stream",
          "name": "stdout",
          "text": [
            "\n",
            "한 판당 평균 가한 데미지       : 64.35\n",
            "한 판당 평균 제거 적의 수      : 1.35\n",
            "한 판당 평균 남긴 골드 량      : 6.95\n",
            "한 판당 평균 레벨              : 7.75\n",
            "한 판당 평균 살아남은 라운드   : 29.75\n",
            "한 판당 평균 순위              : 4.1\n",
            "\n",
            "20판동안 가장 많이 사용한 특성 : ['Set8_Admin', 'Set8_Duelist', 'Set8_Pulsefire', 'Set8_Brawler', 'Set8_Hacker'],\n",
            "20판동안 가장 많이 사용한 유닛 : ['TFT8_Shen', 'TFT8_Blitzcrank', 'TFT8_Camille', 'TFT8_Leblanc', 'TFT8_Aatrox'],\n",
            "20판동안 가장 많이 사용한 템   : [0, 1, 2, 3, 4],\n",
            "\n",
            "\n"
          ]
        }
      ]
    },
    {
      "cell_type": "markdown",
      "source": [
        "---"
      ],
      "metadata": {
        "id": "9im-OOkzCTGs"
      }
    },
    {
      "cell_type": "code",
      "source": [
        "base_url = \"https://kr.api.riotgames.com/tft/\""
      ],
      "metadata": {
        "id": "0sijtnsVCkus"
      },
      "execution_count": 24,
      "outputs": []
    },
    {
      "cell_type": "code",
      "source": [
        "request_header = {\n",
        "    \"User-Agent\": \"Mozilla/5.0 (Windows NT 10.0; Win64; x64) AppleWebKit/537.36 (KHTML, like Gecko) Chrome/97.0.4692.99 Safari/537.36\",\n",
        "    \"Accept-Language\": \"ko-KR,ko;q=0.9,en-US;q=0.8,en;q=0.7\",\n",
        "    \"Accept-Charset\": \"application/x-www-form-urlencoded; charset=UTF-8\",\n",
        "    \"Origin\": \"https://developer.riotgames.com\",\n",
        "    \"X-Riot-Token\": api_key\n",
        "    }"
      ],
      "metadata": {
        "id": "rGADoZtACn1p"
      },
      "execution_count": 25,
      "outputs": []
    },
    {
      "cell_type": "code",
      "source": [
        "# challenger\n",
        "challenger_url = base_url + 'league/v1/challenger'\n",
        "challenger = requests.get(challenger_url, headers = request_header).json()\n",
        "\n",
        "# grandmaster\n",
        "grandmaster_url = base_url + 'league/v1/grandmaster'\n",
        "grandmaster = requests.get(grandmaster_url, headers = request_header).json()\n",
        "\n",
        "# master\n",
        "master_url = base_url + 'league/v1/master'\n",
        "master = requests.get(master_url, headers = request_header).json()"
      ],
      "metadata": {
        "id": "lwODr3HwCTv3"
      },
      "execution_count": 89,
      "outputs": []
    },
    {
      "cell_type": "code",
      "source": [
        "pd.DataFrame(challenger)\n",
        "pd.DataFrame(grandmaster)\n",
        "pd.DataFrame(master)"
      ],
      "metadata": {
        "colab": {
          "base_uri": "https://localhost:8080/",
          "height": 424
        },
        "id": "EIrWOWNjCwou",
        "outputId": "67f6cf46-7f38-4d75-bab6-23cd7242f320"
      },
      "execution_count": 90,
      "outputs": [
        {
          "output_type": "execute_result",
          "data": {
            "text/plain": [
              "        tier                              leagueId       queue  \\\n",
              "0     MASTER  b8b79e4d-abda-3341-b086-b706bc960db1  RANKED_TFT   \n",
              "1     MASTER  b8b79e4d-abda-3341-b086-b706bc960db1  RANKED_TFT   \n",
              "2     MASTER  b8b79e4d-abda-3341-b086-b706bc960db1  RANKED_TFT   \n",
              "3     MASTER  b8b79e4d-abda-3341-b086-b706bc960db1  RANKED_TFT   \n",
              "4     MASTER  b8b79e4d-abda-3341-b086-b706bc960db1  RANKED_TFT   \n",
              "...      ...                                   ...         ...   \n",
              "5137  MASTER  b8b79e4d-abda-3341-b086-b706bc960db1  RANKED_TFT   \n",
              "5138  MASTER  b8b79e4d-abda-3341-b086-b706bc960db1  RANKED_TFT   \n",
              "5139  MASTER  b8b79e4d-abda-3341-b086-b706bc960db1  RANKED_TFT   \n",
              "5140  MASTER  b8b79e4d-abda-3341-b086-b706bc960db1  RANKED_TFT   \n",
              "5141  MASTER  b8b79e4d-abda-3341-b086-b706bc960db1  RANKED_TFT   \n",
              "\n",
              "                         name  \\\n",
              "0     Fiddlesticks's Ravagers   \n",
              "1     Fiddlesticks's Ravagers   \n",
              "2     Fiddlesticks's Ravagers   \n",
              "3     Fiddlesticks's Ravagers   \n",
              "4     Fiddlesticks's Ravagers   \n",
              "...                       ...   \n",
              "5137  Fiddlesticks's Ravagers   \n",
              "5138  Fiddlesticks's Ravagers   \n",
              "5139  Fiddlesticks's Ravagers   \n",
              "5140  Fiddlesticks's Ravagers   \n",
              "5141  Fiddlesticks's Ravagers   \n",
              "\n",
              "                                                entries  \n",
              "0     {'summonerId': 'wJ0nKYOZlXphFxwQAO5TfYOpvmCAis...  \n",
              "1     {'summonerId': '_FAOhG34woPLgsnBTaRU-q-LiNfNkq...  \n",
              "2     {'summonerId': 'HwxwxL5bRr1hfCx-17ubSbQPixKzw-...  \n",
              "3     {'summonerId': 'QlUPRQ2NbOrLLSTwO_oC-FpGkC2Qet...  \n",
              "4     {'summonerId': 'xUkS5bMustNA7AE81wGOC4eLEfZCvt...  \n",
              "...                                                 ...  \n",
              "5137  {'summonerId': 'xX5aRGutBgAYlR6CdCoSvHRX1Pi_w0...  \n",
              "5138  {'summonerId': '15j5m56u7BahxWOrgFwgdkx1LKn4vP...  \n",
              "5139  {'summonerId': 'k9s3bL3vYM2NWRRTCpYJWyfi2vTHDe...  \n",
              "5140  {'summonerId': 'el_xcKQuSoR6lXObOzfmaGRYA-lf9G...  \n",
              "5141  {'summonerId': 'E-LPStg4IVCuTGUSkievlh_ZKbAqG4...  \n",
              "\n",
              "[5142 rows x 5 columns]"
            ],
            "text/html": [
              "\n",
              "  <div id=\"df-5175cf1e-a510-4536-9ac2-fa258f980248\">\n",
              "    <div class=\"colab-df-container\">\n",
              "      <div>\n",
              "<style scoped>\n",
              "    .dataframe tbody tr th:only-of-type {\n",
              "        vertical-align: middle;\n",
              "    }\n",
              "\n",
              "    .dataframe tbody tr th {\n",
              "        vertical-align: top;\n",
              "    }\n",
              "\n",
              "    .dataframe thead th {\n",
              "        text-align: right;\n",
              "    }\n",
              "</style>\n",
              "<table border=\"1\" class=\"dataframe\">\n",
              "  <thead>\n",
              "    <tr style=\"text-align: right;\">\n",
              "      <th></th>\n",
              "      <th>tier</th>\n",
              "      <th>leagueId</th>\n",
              "      <th>queue</th>\n",
              "      <th>name</th>\n",
              "      <th>entries</th>\n",
              "    </tr>\n",
              "  </thead>\n",
              "  <tbody>\n",
              "    <tr>\n",
              "      <th>0</th>\n",
              "      <td>MASTER</td>\n",
              "      <td>b8b79e4d-abda-3341-b086-b706bc960db1</td>\n",
              "      <td>RANKED_TFT</td>\n",
              "      <td>Fiddlesticks's Ravagers</td>\n",
              "      <td>{'summonerId': 'wJ0nKYOZlXphFxwQAO5TfYOpvmCAis...</td>\n",
              "    </tr>\n",
              "    <tr>\n",
              "      <th>1</th>\n",
              "      <td>MASTER</td>\n",
              "      <td>b8b79e4d-abda-3341-b086-b706bc960db1</td>\n",
              "      <td>RANKED_TFT</td>\n",
              "      <td>Fiddlesticks's Ravagers</td>\n",
              "      <td>{'summonerId': '_FAOhG34woPLgsnBTaRU-q-LiNfNkq...</td>\n",
              "    </tr>\n",
              "    <tr>\n",
              "      <th>2</th>\n",
              "      <td>MASTER</td>\n",
              "      <td>b8b79e4d-abda-3341-b086-b706bc960db1</td>\n",
              "      <td>RANKED_TFT</td>\n",
              "      <td>Fiddlesticks's Ravagers</td>\n",
              "      <td>{'summonerId': 'HwxwxL5bRr1hfCx-17ubSbQPixKzw-...</td>\n",
              "    </tr>\n",
              "    <tr>\n",
              "      <th>3</th>\n",
              "      <td>MASTER</td>\n",
              "      <td>b8b79e4d-abda-3341-b086-b706bc960db1</td>\n",
              "      <td>RANKED_TFT</td>\n",
              "      <td>Fiddlesticks's Ravagers</td>\n",
              "      <td>{'summonerId': 'QlUPRQ2NbOrLLSTwO_oC-FpGkC2Qet...</td>\n",
              "    </tr>\n",
              "    <tr>\n",
              "      <th>4</th>\n",
              "      <td>MASTER</td>\n",
              "      <td>b8b79e4d-abda-3341-b086-b706bc960db1</td>\n",
              "      <td>RANKED_TFT</td>\n",
              "      <td>Fiddlesticks's Ravagers</td>\n",
              "      <td>{'summonerId': 'xUkS5bMustNA7AE81wGOC4eLEfZCvt...</td>\n",
              "    </tr>\n",
              "    <tr>\n",
              "      <th>...</th>\n",
              "      <td>...</td>\n",
              "      <td>...</td>\n",
              "      <td>...</td>\n",
              "      <td>...</td>\n",
              "      <td>...</td>\n",
              "    </tr>\n",
              "    <tr>\n",
              "      <th>5137</th>\n",
              "      <td>MASTER</td>\n",
              "      <td>b8b79e4d-abda-3341-b086-b706bc960db1</td>\n",
              "      <td>RANKED_TFT</td>\n",
              "      <td>Fiddlesticks's Ravagers</td>\n",
              "      <td>{'summonerId': 'xX5aRGutBgAYlR6CdCoSvHRX1Pi_w0...</td>\n",
              "    </tr>\n",
              "    <tr>\n",
              "      <th>5138</th>\n",
              "      <td>MASTER</td>\n",
              "      <td>b8b79e4d-abda-3341-b086-b706bc960db1</td>\n",
              "      <td>RANKED_TFT</td>\n",
              "      <td>Fiddlesticks's Ravagers</td>\n",
              "      <td>{'summonerId': '15j5m56u7BahxWOrgFwgdkx1LKn4vP...</td>\n",
              "    </tr>\n",
              "    <tr>\n",
              "      <th>5139</th>\n",
              "      <td>MASTER</td>\n",
              "      <td>b8b79e4d-abda-3341-b086-b706bc960db1</td>\n",
              "      <td>RANKED_TFT</td>\n",
              "      <td>Fiddlesticks's Ravagers</td>\n",
              "      <td>{'summonerId': 'k9s3bL3vYM2NWRRTCpYJWyfi2vTHDe...</td>\n",
              "    </tr>\n",
              "    <tr>\n",
              "      <th>5140</th>\n",
              "      <td>MASTER</td>\n",
              "      <td>b8b79e4d-abda-3341-b086-b706bc960db1</td>\n",
              "      <td>RANKED_TFT</td>\n",
              "      <td>Fiddlesticks's Ravagers</td>\n",
              "      <td>{'summonerId': 'el_xcKQuSoR6lXObOzfmaGRYA-lf9G...</td>\n",
              "    </tr>\n",
              "    <tr>\n",
              "      <th>5141</th>\n",
              "      <td>MASTER</td>\n",
              "      <td>b8b79e4d-abda-3341-b086-b706bc960db1</td>\n",
              "      <td>RANKED_TFT</td>\n",
              "      <td>Fiddlesticks's Ravagers</td>\n",
              "      <td>{'summonerId': 'E-LPStg4IVCuTGUSkievlh_ZKbAqG4...</td>\n",
              "    </tr>\n",
              "  </tbody>\n",
              "</table>\n",
              "<p>5142 rows × 5 columns</p>\n",
              "</div>\n",
              "      <button class=\"colab-df-convert\" onclick=\"convertToInteractive('df-5175cf1e-a510-4536-9ac2-fa258f980248')\"\n",
              "              title=\"Convert this dataframe to an interactive table.\"\n",
              "              style=\"display:none;\">\n",
              "        \n",
              "  <svg xmlns=\"http://www.w3.org/2000/svg\" height=\"24px\"viewBox=\"0 0 24 24\"\n",
              "       width=\"24px\">\n",
              "    <path d=\"M0 0h24v24H0V0z\" fill=\"none\"/>\n",
              "    <path d=\"M18.56 5.44l.94 2.06.94-2.06 2.06-.94-2.06-.94-.94-2.06-.94 2.06-2.06.94zm-11 1L8.5 8.5l.94-2.06 2.06-.94-2.06-.94L8.5 2.5l-.94 2.06-2.06.94zm10 10l.94 2.06.94-2.06 2.06-.94-2.06-.94-.94-2.06-.94 2.06-2.06.94z\"/><path d=\"M17.41 7.96l-1.37-1.37c-.4-.4-.92-.59-1.43-.59-.52 0-1.04.2-1.43.59L10.3 9.45l-7.72 7.72c-.78.78-.78 2.05 0 2.83L4 21.41c.39.39.9.59 1.41.59.51 0 1.02-.2 1.41-.59l7.78-7.78 2.81-2.81c.8-.78.8-2.07 0-2.86zM5.41 20L4 18.59l7.72-7.72 1.47 1.35L5.41 20z\"/>\n",
              "  </svg>\n",
              "      </button>\n",
              "      \n",
              "  <style>\n",
              "    .colab-df-container {\n",
              "      display:flex;\n",
              "      flex-wrap:wrap;\n",
              "      gap: 12px;\n",
              "    }\n",
              "\n",
              "    .colab-df-convert {\n",
              "      background-color: #E8F0FE;\n",
              "      border: none;\n",
              "      border-radius: 50%;\n",
              "      cursor: pointer;\n",
              "      display: none;\n",
              "      fill: #1967D2;\n",
              "      height: 32px;\n",
              "      padding: 0 0 0 0;\n",
              "      width: 32px;\n",
              "    }\n",
              "\n",
              "    .colab-df-convert:hover {\n",
              "      background-color: #E2EBFA;\n",
              "      box-shadow: 0px 1px 2px rgba(60, 64, 67, 0.3), 0px 1px 3px 1px rgba(60, 64, 67, 0.15);\n",
              "      fill: #174EA6;\n",
              "    }\n",
              "\n",
              "    [theme=dark] .colab-df-convert {\n",
              "      background-color: #3B4455;\n",
              "      fill: #D2E3FC;\n",
              "    }\n",
              "\n",
              "    [theme=dark] .colab-df-convert:hover {\n",
              "      background-color: #434B5C;\n",
              "      box-shadow: 0px 1px 3px 1px rgba(0, 0, 0, 0.15);\n",
              "      filter: drop-shadow(0px 1px 2px rgba(0, 0, 0, 0.3));\n",
              "      fill: #FFFFFF;\n",
              "    }\n",
              "  </style>\n",
              "\n",
              "      <script>\n",
              "        const buttonEl =\n",
              "          document.querySelector('#df-5175cf1e-a510-4536-9ac2-fa258f980248 button.colab-df-convert');\n",
              "        buttonEl.style.display =\n",
              "          google.colab.kernel.accessAllowed ? 'block' : 'none';\n",
              "\n",
              "        async function convertToInteractive(key) {\n",
              "          const element = document.querySelector('#df-5175cf1e-a510-4536-9ac2-fa258f980248');\n",
              "          const dataTable =\n",
              "            await google.colab.kernel.invokeFunction('convertToInteractive',\n",
              "                                                     [key], {});\n",
              "          if (!dataTable) return;\n",
              "\n",
              "          const docLinkHtml = 'Like what you see? Visit the ' +\n",
              "            '<a target=\"_blank\" href=https://colab.research.google.com/notebooks/data_table.ipynb>data table notebook</a>'\n",
              "            + ' to learn more about interactive tables.';\n",
              "          element.innerHTML = '';\n",
              "          dataTable['output_type'] = 'display_data';\n",
              "          await google.colab.output.renderOutput(dataTable, element);\n",
              "          const docLink = document.createElement('div');\n",
              "          docLink.innerHTML = docLinkHtml;\n",
              "          element.appendChild(docLink);\n",
              "        }\n",
              "      </script>\n",
              "    </div>\n",
              "  </div>\n",
              "  "
            ]
          },
          "metadata": {},
          "execution_count": 90
        }
      ]
    },
    {
      "cell_type": "code",
      "source": [
        "challenger_df = pd.DataFrame(challenger['entries'])\n",
        "grandmaster_df = pd.DataFrame(grandmaster['entries'])\n",
        "master_df = pd.DataFrame(master['entries'])"
      ],
      "metadata": {
        "id": "IPOuDbOSC8Uc"
      },
      "execution_count": 93,
      "outputs": []
    },
    {
      "cell_type": "code",
      "source": [
        "challenger_df"
      ],
      "metadata": {
        "colab": {
          "base_uri": "https://localhost:8080/",
          "height": 424
        },
        "id": "B4WYJECSGhs8",
        "outputId": "3e7075e8-9f0a-4191-a309-2ef8405325c6"
      },
      "execution_count": 94,
      "outputs": [
        {
          "output_type": "execute_result",
          "data": {
            "text/plain": [
              "                                            summonerId summonerName  \\\n",
              "0       hWwzW1qisLSaGVsKeTBm3Dbc76rOvL1RTjtjPGgunLA0Dg        윤민우왕코   \n",
              "1    p0wDuPXoOL5GZPrZQKStSGWXydZk1cMMYFa8dlcvgRwE-_...          쏭 우   \n",
              "2      YiXEaJP7hKCLZ2osbMlXNQbdAhkulAkCrutfUQ4rsqmmozo      투덜이 김피즈   \n",
              "3      M0xNSeqiAVEcL0acc6CTUNZEG6hN36qY_rQIp3QvUAzGTYw          영오쿤   \n",
              "4      8H5wEKwmzoa39Y8ErMhimYlhZeBIMzrRJ6HnhigNIkDldWY          꼴픽이   \n",
              "..                                                 ...          ...   \n",
              "283    uQ_AOqAx_teasITHI02vt_RW_qri75VkwUnERMYeOGz-wvw    진쨔 적당히 좀해   \n",
              "284  gTaPEtpC0fGEwLjvuJ6tu14Mqttej29lbCcc-23gr8I_PX...  pouty kitty   \n",
              "285    Xfj5PupsUmwZICGdxCHes3W30j7izVejvRb2O6P_imlAswY         백정1위   \n",
              "286     qFSglgAGw5SBUUciSlwFVkDRwZUuGdzWi2uViQ-pzkGilg          녕준이   \n",
              "287    VSFBahwcmjcw76MmQnaqfaO107k_OercLB0RIgDID4KZWv4        롤좀하는가   \n",
              "\n",
              "     leaguePoints rank  wins  losses  veteran  inactive  freshBlood  hotStreak  \n",
              "0             572    I   138     109    False     False        True      False  \n",
              "1             680    I    97      82    False     False        True      False  \n",
              "2             717    I    41      20    False     False       False       True  \n",
              "3             511    I    46      31    False     False        True      False  \n",
              "4            1321    I   143      95    False     False        True       True  \n",
              "..            ...  ...   ...     ...      ...       ...         ...        ...  \n",
              "283           599    I    57      46    False     False        True       True  \n",
              "284           625    I    73      58    False     False        True       True  \n",
              "285           506    I    48      33    False     False        True      False  \n",
              "286           755    I   129     113    False     False       False       True  \n",
              "287          1043    I   109      77    False     False       False       True  \n",
              "\n",
              "[288 rows x 10 columns]"
            ],
            "text/html": [
              "\n",
              "  <div id=\"df-bd938fd1-f44c-41b0-882c-6de3ea690b90\">\n",
              "    <div class=\"colab-df-container\">\n",
              "      <div>\n",
              "<style scoped>\n",
              "    .dataframe tbody tr th:only-of-type {\n",
              "        vertical-align: middle;\n",
              "    }\n",
              "\n",
              "    .dataframe tbody tr th {\n",
              "        vertical-align: top;\n",
              "    }\n",
              "\n",
              "    .dataframe thead th {\n",
              "        text-align: right;\n",
              "    }\n",
              "</style>\n",
              "<table border=\"1\" class=\"dataframe\">\n",
              "  <thead>\n",
              "    <tr style=\"text-align: right;\">\n",
              "      <th></th>\n",
              "      <th>summonerId</th>\n",
              "      <th>summonerName</th>\n",
              "      <th>leaguePoints</th>\n",
              "      <th>rank</th>\n",
              "      <th>wins</th>\n",
              "      <th>losses</th>\n",
              "      <th>veteran</th>\n",
              "      <th>inactive</th>\n",
              "      <th>freshBlood</th>\n",
              "      <th>hotStreak</th>\n",
              "    </tr>\n",
              "  </thead>\n",
              "  <tbody>\n",
              "    <tr>\n",
              "      <th>0</th>\n",
              "      <td>hWwzW1qisLSaGVsKeTBm3Dbc76rOvL1RTjtjPGgunLA0Dg</td>\n",
              "      <td>윤민우왕코</td>\n",
              "      <td>572</td>\n",
              "      <td>I</td>\n",
              "      <td>138</td>\n",
              "      <td>109</td>\n",
              "      <td>False</td>\n",
              "      <td>False</td>\n",
              "      <td>True</td>\n",
              "      <td>False</td>\n",
              "    </tr>\n",
              "    <tr>\n",
              "      <th>1</th>\n",
              "      <td>p0wDuPXoOL5GZPrZQKStSGWXydZk1cMMYFa8dlcvgRwE-_...</td>\n",
              "      <td>쏭 우</td>\n",
              "      <td>680</td>\n",
              "      <td>I</td>\n",
              "      <td>97</td>\n",
              "      <td>82</td>\n",
              "      <td>False</td>\n",
              "      <td>False</td>\n",
              "      <td>True</td>\n",
              "      <td>False</td>\n",
              "    </tr>\n",
              "    <tr>\n",
              "      <th>2</th>\n",
              "      <td>YiXEaJP7hKCLZ2osbMlXNQbdAhkulAkCrutfUQ4rsqmmozo</td>\n",
              "      <td>투덜이 김피즈</td>\n",
              "      <td>717</td>\n",
              "      <td>I</td>\n",
              "      <td>41</td>\n",
              "      <td>20</td>\n",
              "      <td>False</td>\n",
              "      <td>False</td>\n",
              "      <td>False</td>\n",
              "      <td>True</td>\n",
              "    </tr>\n",
              "    <tr>\n",
              "      <th>3</th>\n",
              "      <td>M0xNSeqiAVEcL0acc6CTUNZEG6hN36qY_rQIp3QvUAzGTYw</td>\n",
              "      <td>영오쿤</td>\n",
              "      <td>511</td>\n",
              "      <td>I</td>\n",
              "      <td>46</td>\n",
              "      <td>31</td>\n",
              "      <td>False</td>\n",
              "      <td>False</td>\n",
              "      <td>True</td>\n",
              "      <td>False</td>\n",
              "    </tr>\n",
              "    <tr>\n",
              "      <th>4</th>\n",
              "      <td>8H5wEKwmzoa39Y8ErMhimYlhZeBIMzrRJ6HnhigNIkDldWY</td>\n",
              "      <td>꼴픽이</td>\n",
              "      <td>1321</td>\n",
              "      <td>I</td>\n",
              "      <td>143</td>\n",
              "      <td>95</td>\n",
              "      <td>False</td>\n",
              "      <td>False</td>\n",
              "      <td>True</td>\n",
              "      <td>True</td>\n",
              "    </tr>\n",
              "    <tr>\n",
              "      <th>...</th>\n",
              "      <td>...</td>\n",
              "      <td>...</td>\n",
              "      <td>...</td>\n",
              "      <td>...</td>\n",
              "      <td>...</td>\n",
              "      <td>...</td>\n",
              "      <td>...</td>\n",
              "      <td>...</td>\n",
              "      <td>...</td>\n",
              "      <td>...</td>\n",
              "    </tr>\n",
              "    <tr>\n",
              "      <th>283</th>\n",
              "      <td>uQ_AOqAx_teasITHI02vt_RW_qri75VkwUnERMYeOGz-wvw</td>\n",
              "      <td>진쨔 적당히 좀해</td>\n",
              "      <td>599</td>\n",
              "      <td>I</td>\n",
              "      <td>57</td>\n",
              "      <td>46</td>\n",
              "      <td>False</td>\n",
              "      <td>False</td>\n",
              "      <td>True</td>\n",
              "      <td>True</td>\n",
              "    </tr>\n",
              "    <tr>\n",
              "      <th>284</th>\n",
              "      <td>gTaPEtpC0fGEwLjvuJ6tu14Mqttej29lbCcc-23gr8I_PX...</td>\n",
              "      <td>pouty kitty</td>\n",
              "      <td>625</td>\n",
              "      <td>I</td>\n",
              "      <td>73</td>\n",
              "      <td>58</td>\n",
              "      <td>False</td>\n",
              "      <td>False</td>\n",
              "      <td>True</td>\n",
              "      <td>True</td>\n",
              "    </tr>\n",
              "    <tr>\n",
              "      <th>285</th>\n",
              "      <td>Xfj5PupsUmwZICGdxCHes3W30j7izVejvRb2O6P_imlAswY</td>\n",
              "      <td>백정1위</td>\n",
              "      <td>506</td>\n",
              "      <td>I</td>\n",
              "      <td>48</td>\n",
              "      <td>33</td>\n",
              "      <td>False</td>\n",
              "      <td>False</td>\n",
              "      <td>True</td>\n",
              "      <td>False</td>\n",
              "    </tr>\n",
              "    <tr>\n",
              "      <th>286</th>\n",
              "      <td>qFSglgAGw5SBUUciSlwFVkDRwZUuGdzWi2uViQ-pzkGilg</td>\n",
              "      <td>녕준이</td>\n",
              "      <td>755</td>\n",
              "      <td>I</td>\n",
              "      <td>129</td>\n",
              "      <td>113</td>\n",
              "      <td>False</td>\n",
              "      <td>False</td>\n",
              "      <td>False</td>\n",
              "      <td>True</td>\n",
              "    </tr>\n",
              "    <tr>\n",
              "      <th>287</th>\n",
              "      <td>VSFBahwcmjcw76MmQnaqfaO107k_OercLB0RIgDID4KZWv4</td>\n",
              "      <td>롤좀하는가</td>\n",
              "      <td>1043</td>\n",
              "      <td>I</td>\n",
              "      <td>109</td>\n",
              "      <td>77</td>\n",
              "      <td>False</td>\n",
              "      <td>False</td>\n",
              "      <td>False</td>\n",
              "      <td>True</td>\n",
              "    </tr>\n",
              "  </tbody>\n",
              "</table>\n",
              "<p>288 rows × 10 columns</p>\n",
              "</div>\n",
              "      <button class=\"colab-df-convert\" onclick=\"convertToInteractive('df-bd938fd1-f44c-41b0-882c-6de3ea690b90')\"\n",
              "              title=\"Convert this dataframe to an interactive table.\"\n",
              "              style=\"display:none;\">\n",
              "        \n",
              "  <svg xmlns=\"http://www.w3.org/2000/svg\" height=\"24px\"viewBox=\"0 0 24 24\"\n",
              "       width=\"24px\">\n",
              "    <path d=\"M0 0h24v24H0V0z\" fill=\"none\"/>\n",
              "    <path d=\"M18.56 5.44l.94 2.06.94-2.06 2.06-.94-2.06-.94-.94-2.06-.94 2.06-2.06.94zm-11 1L8.5 8.5l.94-2.06 2.06-.94-2.06-.94L8.5 2.5l-.94 2.06-2.06.94zm10 10l.94 2.06.94-2.06 2.06-.94-2.06-.94-.94-2.06-.94 2.06-2.06.94z\"/><path d=\"M17.41 7.96l-1.37-1.37c-.4-.4-.92-.59-1.43-.59-.52 0-1.04.2-1.43.59L10.3 9.45l-7.72 7.72c-.78.78-.78 2.05 0 2.83L4 21.41c.39.39.9.59 1.41.59.51 0 1.02-.2 1.41-.59l7.78-7.78 2.81-2.81c.8-.78.8-2.07 0-2.86zM5.41 20L4 18.59l7.72-7.72 1.47 1.35L5.41 20z\"/>\n",
              "  </svg>\n",
              "      </button>\n",
              "      \n",
              "  <style>\n",
              "    .colab-df-container {\n",
              "      display:flex;\n",
              "      flex-wrap:wrap;\n",
              "      gap: 12px;\n",
              "    }\n",
              "\n",
              "    .colab-df-convert {\n",
              "      background-color: #E8F0FE;\n",
              "      border: none;\n",
              "      border-radius: 50%;\n",
              "      cursor: pointer;\n",
              "      display: none;\n",
              "      fill: #1967D2;\n",
              "      height: 32px;\n",
              "      padding: 0 0 0 0;\n",
              "      width: 32px;\n",
              "    }\n",
              "\n",
              "    .colab-df-convert:hover {\n",
              "      background-color: #E2EBFA;\n",
              "      box-shadow: 0px 1px 2px rgba(60, 64, 67, 0.3), 0px 1px 3px 1px rgba(60, 64, 67, 0.15);\n",
              "      fill: #174EA6;\n",
              "    }\n",
              "\n",
              "    [theme=dark] .colab-df-convert {\n",
              "      background-color: #3B4455;\n",
              "      fill: #D2E3FC;\n",
              "    }\n",
              "\n",
              "    [theme=dark] .colab-df-convert:hover {\n",
              "      background-color: #434B5C;\n",
              "      box-shadow: 0px 1px 3px 1px rgba(0, 0, 0, 0.15);\n",
              "      filter: drop-shadow(0px 1px 2px rgba(0, 0, 0, 0.3));\n",
              "      fill: #FFFFFF;\n",
              "    }\n",
              "  </style>\n",
              "\n",
              "      <script>\n",
              "        const buttonEl =\n",
              "          document.querySelector('#df-bd938fd1-f44c-41b0-882c-6de3ea690b90 button.colab-df-convert');\n",
              "        buttonEl.style.display =\n",
              "          google.colab.kernel.accessAllowed ? 'block' : 'none';\n",
              "\n",
              "        async function convertToInteractive(key) {\n",
              "          const element = document.querySelector('#df-bd938fd1-f44c-41b0-882c-6de3ea690b90');\n",
              "          const dataTable =\n",
              "            await google.colab.kernel.invokeFunction('convertToInteractive',\n",
              "                                                     [key], {});\n",
              "          if (!dataTable) return;\n",
              "\n",
              "          const docLinkHtml = 'Like what you see? Visit the ' +\n",
              "            '<a target=\"_blank\" href=https://colab.research.google.com/notebooks/data_table.ipynb>data table notebook</a>'\n",
              "            + ' to learn more about interactive tables.';\n",
              "          element.innerHTML = '';\n",
              "          dataTable['output_type'] = 'display_data';\n",
              "          await google.colab.output.renderOutput(dataTable, element);\n",
              "          const docLink = document.createElement('div');\n",
              "          docLink.innerHTML = docLinkHtml;\n",
              "          element.appendChild(docLink);\n",
              "        }\n",
              "      </script>\n",
              "    </div>\n",
              "  </div>\n",
              "  "
            ]
          },
          "metadata": {},
          "execution_count": 94
        }
      ]
    },
    {
      "cell_type": "code",
      "source": [
        "challenger_df['rank'] = challenger_df['rank'].apply(lambda x: 1 if x == 'I' else x)"
      ],
      "metadata": {
        "id": "Dy-CbGNVMEQh"
      },
      "execution_count": 30,
      "outputs": []
    },
    {
      "cell_type": "code",
      "source": [
        "import pandas as pd\n",
        "\n",
        "# 필요한 칼럼만 추출\n",
        "columns = ['summonerName', 'leaguePoints', 'wins', 'losses']\n",
        "data = challenger_df[columns]\n",
        "\n",
        "# 칼럼명 변경\n",
        "df = data.rename(columns={'summonerName': 'name'})\n",
        "df = df.drop('name', axis=1)\n",
        "\n",
        "# 데이터 확인\n",
        "print(df.head())\n",
        "\n"
      ],
      "metadata": {
        "colab": {
          "base_uri": "https://localhost:8080/"
        },
        "id": "_PnwoVXeMwAN",
        "outputId": "186dce14-ef30-430c-e076-b9df8f916cc9"
      },
      "execution_count": 31,
      "outputs": [
        {
          "output_type": "stream",
          "name": "stdout",
          "text": [
            "   leaguePoints  wins  losses\n",
            "0           503    94      88\n",
            "1           726    64      46\n",
            "2           505   123     112\n",
            "3           485    67      56\n",
            "4           503    82      57\n"
          ]
        }
      ]
    },
    {
      "cell_type": "code",
      "source": [
        "from sklearn.model_selection import train_test_split\n",
        "from sklearn.linear_model import LinearRegression\n",
        "from sklearn.metrics import r2_score\n",
        "\n",
        "# 데이터 전처리\n",
        "X = challenger_df[['leaguePoints', 'wins', 'losses']]\n",
        "y = challenger_df['rank']  # 예측할 값 (rank)\n",
        "X_train, X_test, y_train, y_test = train_test_split(X, y, test_size=0.2, random_state=42)  # 데이터셋 분할\n",
        "\n",
        "# 모델 학습\n",
        "model = LinearRegression()\n",
        "model.fit(X_train, y_train)\n",
        "\n",
        "# 평가\n",
        "y_pred = model.predict(X_test)\n",
        "r2score = r2_score(y_test, y_pred)\n",
        "print('R2 Score:', r2score)"
      ],
      "metadata": {
        "colab": {
          "base_uri": "https://localhost:8080/"
        },
        "id": "ZmXyT9RULu-Z",
        "outputId": "f5fb128c-6977-48c3-cba5-9553cce32109"
      },
      "execution_count": 32,
      "outputs": [
        {
          "output_type": "stream",
          "name": "stdout",
          "text": [
            "R2 Score: 1.0\n"
          ]
        }
      ]
    },
    {
      "cell_type": "code",
      "source": [
        "from sklearn.model_selection import train_test_split\n",
        "\n",
        "# feature와 target 변수 분리\n",
        "X = df[['leaguePoints', 'wins', 'losses']]\n",
        "y = df['wins']\n",
        "\n",
        "# 데이터를 학습용과 검증용으로 나눔\n",
        "X_train, X_test, y_train, y_test = train_test_split(X, y, test_size=0.2, random_state=42)"
      ],
      "metadata": {
        "id": "xSvd92SvMhjS"
      },
      "execution_count": 33,
      "outputs": []
    },
    {
      "cell_type": "code",
      "source": [
        "from sklearn.ensemble import RandomForestClassifier\n",
        "from sklearn.metrics import accuracy_score\n",
        "\n",
        "# 랜덤포레스트 모델 생성 및 학습\n",
        "rfc = RandomForestClassifier(n_estimators=100, random_state=42)\n",
        "rfc.fit(X_train, y_train)\n",
        "\n",
        "# 검증용 데이터로 예측 수행\n",
        "y_pred = rfc.predict(X_test)\n",
        "\n",
        "# 예측 결과 평가\n",
        "print(\"Accuracy:\", accuracy_score(y_test, y_pred))"
      ],
      "metadata": {
        "colab": {
          "base_uri": "https://localhost:8080/"
        },
        "id": "Yg55SvB3NuX1",
        "outputId": "9151c8f3-029a-4399-8562-7b136f6274bc"
      },
      "execution_count": 34,
      "outputs": [
        {
          "output_type": "stream",
          "name": "stdout",
          "text": [
            "Accuracy: 0.10344827586206896\n"
          ]
        }
      ]
    },
    {
      "cell_type": "code",
      "source": [
        "from sklearn.model_selection import GridSearchCV\n",
        "from sklearn.ensemble import RandomForestClassifier\n",
        "\n",
        "# Random Forest Classifier\n",
        "rfc = RandomForestClassifier(random_state=42)\n",
        "\n",
        "# Parameter Grid\n",
        "param_grid = {\n",
        "    'n_estimators': [50, 100, 200],\n",
        "    'max_features': ['sqrt', 'log2'],\n",
        "    'max_depth' : [10, 20, 30, 40, 50, 60, None]\n",
        "}\n",
        "\n",
        "# Grid Search Cross Validation\n",
        "grid_search = GridSearchCV(rfc, param_grid=param_grid, cv=5)\n",
        "grid_search.fit(X_train, y_train)\n",
        "\n",
        "# Print the best score and best parameters\n",
        "print(f\"Best Accuracy: {grid_search.best_score_:.3f}\")\n",
        "print(\"Best Parameters:\")\n",
        "best_params = grid_search.best_params_\n",
        "for param_name in sorted(best_params.keys()):\n",
        "    print(f\"{param_name}: {best_params[param_name]}\")\n"
      ],
      "metadata": {
        "colab": {
          "base_uri": "https://localhost:8080/"
        },
        "id": "hUf-L1iIOHV8",
        "outputId": "76b7c726-4407-4949-c505-253c1f6d6a6d"
      },
      "execution_count": 35,
      "outputs": [
        {
          "output_type": "stream",
          "name": "stderr",
          "text": [
            "/usr/local/lib/python3.9/dist-packages/sklearn/model_selection/_split.py:700: UserWarning: The least populated class in y has only 1 members, which is less than n_splits=5.\n",
            "  warnings.warn(\n"
          ]
        },
        {
          "output_type": "stream",
          "name": "stdout",
          "text": [
            "Best Accuracy: 0.270\n",
            "Best Parameters:\n",
            "max_depth: 20\n",
            "max_features: sqrt\n",
            "n_estimators: 100\n"
          ]
        }
      ]
    },
    {
      "cell_type": "code",
      "source": [
        "from sklearn.ensemble import RandomForestClassifier\n",
        "\n",
        "re_model = RandomForestClassifier(n_estimators=50, max_depth=10, max_features='sqrt', random_state=42)"
      ],
      "metadata": {
        "id": "5aTfA6xSPBIM"
      },
      "execution_count": 36,
      "outputs": []
    },
    {
      "cell_type": "code",
      "source": [
        "re_X = X\n",
        "re_y = y"
      ],
      "metadata": {
        "id": "S2LGOSTTPv-z"
      },
      "execution_count": 37,
      "outputs": []
    },
    {
      "cell_type": "code",
      "source": [
        "from sklearn.model_selection import cross_val_score\n",
        "\n",
        "re_model = RandomForestClassifier(n_estimators=50, max_depth=10, max_features='sqrt')\n",
        "scores = cross_val_score(re_model, re_X, re_y, cv=5)\n",
        "print(\"Cross Validation Scores:\", scores)\n",
        "print(\"Mean Accuracy:\", scores.mean())"
      ],
      "metadata": {
        "colab": {
          "base_uri": "https://localhost:8080/"
        },
        "id": "YR6w4C2EPgrV",
        "outputId": "4dfa6731-bf05-4343-8afa-03e8fae366e8"
      },
      "execution_count": 38,
      "outputs": [
        {
          "output_type": "stream",
          "name": "stderr",
          "text": [
            "/usr/local/lib/python3.9/dist-packages/sklearn/model_selection/_split.py:700: UserWarning: The least populated class in y has only 1 members, which is less than n_splits=5.\n",
            "  warnings.warn(\n"
          ]
        },
        {
          "output_type": "stream",
          "name": "stdout",
          "text": [
            "Cross Validation Scores: [0.24137931 0.22413793 0.24137931 0.28070175 0.22807018]\n",
            "Mean Accuracy: 0.24313369630973986\n"
          ]
        }
      ]
    },
    {
      "cell_type": "markdown",
      "source": [
        "---"
      ],
      "metadata": {
        "id": "dodyJUI1QT0S"
      }
    },
    {
      "cell_type": "code",
      "source": [
        "challenger_df = pd.DataFrame(challenger['entries'])\n",
        "challenger_df['league'] = 'challenger'\n",
        "challenger_df = challenger_df[['wins', 'leaguePoints', 'losses', 'league']]\n",
        "\n",
        "grandmaster_df = pd.DataFrame(grandmaster['entries'])\n",
        "grandmaster_df['league'] = 'grandmaster'\n",
        "grandmaster_df = grandmaster_df[['wins', 'leaguePoints', 'losses', 'league']]\n",
        "\n",
        "master_df = pd.DataFrame(master['entries'])\n",
        "master_df['league'] = 'master'\n",
        "master_df = master_df[['wins', 'leaguePoints', 'losses', 'league']]"
      ],
      "metadata": {
        "id": "Pt2f0dAIQUXc"
      },
      "execution_count": 39,
      "outputs": []
    },
    {
      "cell_type": "code",
      "source": [
        "total_df = pd.concat([challenger_df, grandmaster_df, master_df], ignore_index=True)\n",
        "total_df = total_df[['leaguePoints', 'wins', 'losses', 'league']]"
      ],
      "metadata": {
        "id": "FU0zXvDTQWfM"
      },
      "execution_count": 40,
      "outputs": []
    },
    {
      "cell_type": "code",
      "source": [
        "print(total_df.head())"
      ],
      "metadata": {
        "colab": {
          "base_uri": "https://localhost:8080/"
        },
        "id": "I8rz0qTnQYc4",
        "outputId": "26878ef1-1da9-4629-b0aa-94f08b94caa9"
      },
      "execution_count": 41,
      "outputs": [
        {
          "output_type": "stream",
          "name": "stdout",
          "text": [
            "   leaguePoints  wins  losses      league\n",
            "0           503    94      88  challenger\n",
            "1           726    64      46  challenger\n",
            "2           505   123     112  challenger\n",
            "3           485    67      56  challenger\n",
            "4           503    82      57  challenger\n"
          ]
        }
      ]
    },
    {
      "cell_type": "code",
      "source": [
        "from sklearn.model_selection import train_test_split\n",
        "\n",
        "X = total_df[['wins', 'losses']]\n",
        "y = total_df['leaguePoints']\n",
        "\n",
        "X_train, X_test, y_train, y_test = train_test_split(X, y, test_size=0.2, random_state=42)"
      ],
      "metadata": {
        "id": "CJXSpKgyRDN2"
      },
      "execution_count": 42,
      "outputs": []
    },
    {
      "cell_type": "code",
      "source": [
        "from sklearn.ensemble import RandomForestRegressor\n",
        "\n",
        "rf_reg = RandomForestRegressor(random_state=42)\n",
        "rf_reg.fit(X_train, y_train)"
      ],
      "metadata": {
        "colab": {
          "base_uri": "https://localhost:8080/",
          "height": 75
        },
        "id": "knXD5yhnREoc",
        "outputId": "0a587487-0bcb-4f86-fe7f-07d067115191"
      },
      "execution_count": 43,
      "outputs": [
        {
          "output_type": "execute_result",
          "data": {
            "text/plain": [
              "RandomForestRegressor(random_state=42)"
            ],
            "text/html": [
              "<style>#sk-container-id-1 {color: black;background-color: white;}#sk-container-id-1 pre{padding: 0;}#sk-container-id-1 div.sk-toggleable {background-color: white;}#sk-container-id-1 label.sk-toggleable__label {cursor: pointer;display: block;width: 100%;margin-bottom: 0;padding: 0.3em;box-sizing: border-box;text-align: center;}#sk-container-id-1 label.sk-toggleable__label-arrow:before {content: \"▸\";float: left;margin-right: 0.25em;color: #696969;}#sk-container-id-1 label.sk-toggleable__label-arrow:hover:before {color: black;}#sk-container-id-1 div.sk-estimator:hover label.sk-toggleable__label-arrow:before {color: black;}#sk-container-id-1 div.sk-toggleable__content {max-height: 0;max-width: 0;overflow: hidden;text-align: left;background-color: #f0f8ff;}#sk-container-id-1 div.sk-toggleable__content pre {margin: 0.2em;color: black;border-radius: 0.25em;background-color: #f0f8ff;}#sk-container-id-1 input.sk-toggleable__control:checked~div.sk-toggleable__content {max-height: 200px;max-width: 100%;overflow: auto;}#sk-container-id-1 input.sk-toggleable__control:checked~label.sk-toggleable__label-arrow:before {content: \"▾\";}#sk-container-id-1 div.sk-estimator input.sk-toggleable__control:checked~label.sk-toggleable__label {background-color: #d4ebff;}#sk-container-id-1 div.sk-label input.sk-toggleable__control:checked~label.sk-toggleable__label {background-color: #d4ebff;}#sk-container-id-1 input.sk-hidden--visually {border: 0;clip: rect(1px 1px 1px 1px);clip: rect(1px, 1px, 1px, 1px);height: 1px;margin: -1px;overflow: hidden;padding: 0;position: absolute;width: 1px;}#sk-container-id-1 div.sk-estimator {font-family: monospace;background-color: #f0f8ff;border: 1px dotted black;border-radius: 0.25em;box-sizing: border-box;margin-bottom: 0.5em;}#sk-container-id-1 div.sk-estimator:hover {background-color: #d4ebff;}#sk-container-id-1 div.sk-parallel-item::after {content: \"\";width: 100%;border-bottom: 1px solid gray;flex-grow: 1;}#sk-container-id-1 div.sk-label:hover label.sk-toggleable__label {background-color: #d4ebff;}#sk-container-id-1 div.sk-serial::before {content: \"\";position: absolute;border-left: 1px solid gray;box-sizing: border-box;top: 0;bottom: 0;left: 50%;z-index: 0;}#sk-container-id-1 div.sk-serial {display: flex;flex-direction: column;align-items: center;background-color: white;padding-right: 0.2em;padding-left: 0.2em;position: relative;}#sk-container-id-1 div.sk-item {position: relative;z-index: 1;}#sk-container-id-1 div.sk-parallel {display: flex;align-items: stretch;justify-content: center;background-color: white;position: relative;}#sk-container-id-1 div.sk-item::before, #sk-container-id-1 div.sk-parallel-item::before {content: \"\";position: absolute;border-left: 1px solid gray;box-sizing: border-box;top: 0;bottom: 0;left: 50%;z-index: -1;}#sk-container-id-1 div.sk-parallel-item {display: flex;flex-direction: column;z-index: 1;position: relative;background-color: white;}#sk-container-id-1 div.sk-parallel-item:first-child::after {align-self: flex-end;width: 50%;}#sk-container-id-1 div.sk-parallel-item:last-child::after {align-self: flex-start;width: 50%;}#sk-container-id-1 div.sk-parallel-item:only-child::after {width: 0;}#sk-container-id-1 div.sk-dashed-wrapped {border: 1px dashed gray;margin: 0 0.4em 0.5em 0.4em;box-sizing: border-box;padding-bottom: 0.4em;background-color: white;}#sk-container-id-1 div.sk-label label {font-family: monospace;font-weight: bold;display: inline-block;line-height: 1.2em;}#sk-container-id-1 div.sk-label-container {text-align: center;}#sk-container-id-1 div.sk-container {/* jupyter's `normalize.less` sets `[hidden] { display: none; }` but bootstrap.min.css set `[hidden] { display: none !important; }` so we also need the `!important` here to be able to override the default hidden behavior on the sphinx rendered scikit-learn.org. See: https://github.com/scikit-learn/scikit-learn/issues/21755 */display: inline-block !important;position: relative;}#sk-container-id-1 div.sk-text-repr-fallback {display: none;}</style><div id=\"sk-container-id-1\" class=\"sk-top-container\"><div class=\"sk-text-repr-fallback\"><pre>RandomForestRegressor(random_state=42)</pre><b>In a Jupyter environment, please rerun this cell to show the HTML representation or trust the notebook. <br />On GitHub, the HTML representation is unable to render, please try loading this page with nbviewer.org.</b></div><div class=\"sk-container\" hidden><div class=\"sk-item\"><div class=\"sk-estimator sk-toggleable\"><input class=\"sk-toggleable__control sk-hidden--visually\" id=\"sk-estimator-id-1\" type=\"checkbox\" checked><label for=\"sk-estimator-id-1\" class=\"sk-toggleable__label sk-toggleable__label-arrow\">RandomForestRegressor</label><div class=\"sk-toggleable__content\"><pre>RandomForestRegressor(random_state=42)</pre></div></div></div></div></div>"
            ]
          },
          "metadata": {},
          "execution_count": 43
        }
      ]
    },
    {
      "cell_type": "code",
      "source": [
        "from sklearn.metrics import r2_score\n",
        "\n",
        "y_pred = rf_reg.predict(X_test)\n",
        "score = r2_score(y_test, y_pred)\n",
        "print(\"R2 Score: {:.3f}\".format(score))"
      ],
      "metadata": {
        "colab": {
          "base_uri": "https://localhost:8080/"
        },
        "id": "m5sxdwOERHNL",
        "outputId": "5f9ba6d7-138f-4406-e18c-2b16dba4718a"
      },
      "execution_count": 44,
      "outputs": [
        {
          "output_type": "stream",
          "name": "stdout",
          "text": [
            "R2 Score: 0.077\n"
          ]
        }
      ]
    },
    {
      "cell_type": "markdown",
      "source": [
        "---"
      ],
      "metadata": {
        "id": "MRL2rJXxRcOj"
      }
    },
    {
      "cell_type": "code",
      "source": [
        "from sklearn.linear_model import LinearRegression\n",
        "from sklearn.model_selection import train_test_split\n",
        "\n",
        "X_train, X_test, y_train, y_test = train_test_split(X, y, test_size=0.2, random_state=42)"
      ],
      "metadata": {
        "id": "r_eGpbtIRc0b"
      },
      "execution_count": 45,
      "outputs": []
    },
    {
      "cell_type": "code",
      "source": [
        "lr = LinearRegression()\n",
        "lr.fit(X_train, y_train)"
      ],
      "metadata": {
        "colab": {
          "base_uri": "https://localhost:8080/",
          "height": 75
        },
        "id": "JvtEkF_PRgvE",
        "outputId": "57336761-80c4-4ebd-f663-03d626acafc6"
      },
      "execution_count": 46,
      "outputs": [
        {
          "output_type": "execute_result",
          "data": {
            "text/plain": [
              "LinearRegression()"
            ],
            "text/html": [
              "<style>#sk-container-id-2 {color: black;background-color: white;}#sk-container-id-2 pre{padding: 0;}#sk-container-id-2 div.sk-toggleable {background-color: white;}#sk-container-id-2 label.sk-toggleable__label {cursor: pointer;display: block;width: 100%;margin-bottom: 0;padding: 0.3em;box-sizing: border-box;text-align: center;}#sk-container-id-2 label.sk-toggleable__label-arrow:before {content: \"▸\";float: left;margin-right: 0.25em;color: #696969;}#sk-container-id-2 label.sk-toggleable__label-arrow:hover:before {color: black;}#sk-container-id-2 div.sk-estimator:hover label.sk-toggleable__label-arrow:before {color: black;}#sk-container-id-2 div.sk-toggleable__content {max-height: 0;max-width: 0;overflow: hidden;text-align: left;background-color: #f0f8ff;}#sk-container-id-2 div.sk-toggleable__content pre {margin: 0.2em;color: black;border-radius: 0.25em;background-color: #f0f8ff;}#sk-container-id-2 input.sk-toggleable__control:checked~div.sk-toggleable__content {max-height: 200px;max-width: 100%;overflow: auto;}#sk-container-id-2 input.sk-toggleable__control:checked~label.sk-toggleable__label-arrow:before {content: \"▾\";}#sk-container-id-2 div.sk-estimator input.sk-toggleable__control:checked~label.sk-toggleable__label {background-color: #d4ebff;}#sk-container-id-2 div.sk-label input.sk-toggleable__control:checked~label.sk-toggleable__label {background-color: #d4ebff;}#sk-container-id-2 input.sk-hidden--visually {border: 0;clip: rect(1px 1px 1px 1px);clip: rect(1px, 1px, 1px, 1px);height: 1px;margin: -1px;overflow: hidden;padding: 0;position: absolute;width: 1px;}#sk-container-id-2 div.sk-estimator {font-family: monospace;background-color: #f0f8ff;border: 1px dotted black;border-radius: 0.25em;box-sizing: border-box;margin-bottom: 0.5em;}#sk-container-id-2 div.sk-estimator:hover {background-color: #d4ebff;}#sk-container-id-2 div.sk-parallel-item::after {content: \"\";width: 100%;border-bottom: 1px solid gray;flex-grow: 1;}#sk-container-id-2 div.sk-label:hover label.sk-toggleable__label {background-color: #d4ebff;}#sk-container-id-2 div.sk-serial::before {content: \"\";position: absolute;border-left: 1px solid gray;box-sizing: border-box;top: 0;bottom: 0;left: 50%;z-index: 0;}#sk-container-id-2 div.sk-serial {display: flex;flex-direction: column;align-items: center;background-color: white;padding-right: 0.2em;padding-left: 0.2em;position: relative;}#sk-container-id-2 div.sk-item {position: relative;z-index: 1;}#sk-container-id-2 div.sk-parallel {display: flex;align-items: stretch;justify-content: center;background-color: white;position: relative;}#sk-container-id-2 div.sk-item::before, #sk-container-id-2 div.sk-parallel-item::before {content: \"\";position: absolute;border-left: 1px solid gray;box-sizing: border-box;top: 0;bottom: 0;left: 50%;z-index: -1;}#sk-container-id-2 div.sk-parallel-item {display: flex;flex-direction: column;z-index: 1;position: relative;background-color: white;}#sk-container-id-2 div.sk-parallel-item:first-child::after {align-self: flex-end;width: 50%;}#sk-container-id-2 div.sk-parallel-item:last-child::after {align-self: flex-start;width: 50%;}#sk-container-id-2 div.sk-parallel-item:only-child::after {width: 0;}#sk-container-id-2 div.sk-dashed-wrapped {border: 1px dashed gray;margin: 0 0.4em 0.5em 0.4em;box-sizing: border-box;padding-bottom: 0.4em;background-color: white;}#sk-container-id-2 div.sk-label label {font-family: monospace;font-weight: bold;display: inline-block;line-height: 1.2em;}#sk-container-id-2 div.sk-label-container {text-align: center;}#sk-container-id-2 div.sk-container {/* jupyter's `normalize.less` sets `[hidden] { display: none; }` but bootstrap.min.css set `[hidden] { display: none !important; }` so we also need the `!important` here to be able to override the default hidden behavior on the sphinx rendered scikit-learn.org. See: https://github.com/scikit-learn/scikit-learn/issues/21755 */display: inline-block !important;position: relative;}#sk-container-id-2 div.sk-text-repr-fallback {display: none;}</style><div id=\"sk-container-id-2\" class=\"sk-top-container\"><div class=\"sk-text-repr-fallback\"><pre>LinearRegression()</pre><b>In a Jupyter environment, please rerun this cell to show the HTML representation or trust the notebook. <br />On GitHub, the HTML representation is unable to render, please try loading this page with nbviewer.org.</b></div><div class=\"sk-container\" hidden><div class=\"sk-item\"><div class=\"sk-estimator sk-toggleable\"><input class=\"sk-toggleable__control sk-hidden--visually\" id=\"sk-estimator-id-2\" type=\"checkbox\" checked><label for=\"sk-estimator-id-2\" class=\"sk-toggleable__label sk-toggleable__label-arrow\">LinearRegression</label><div class=\"sk-toggleable__content\"><pre>LinearRegression()</pre></div></div></div></div></div>"
            ]
          },
          "metadata": {},
          "execution_count": 46
        }
      ]
    },
    {
      "cell_type": "code",
      "source": [
        "y_pred = lr.predict(X_test)\n",
        "\n",
        "from sklearn.metrics import r2_score\n",
        "r2_score(y_test, y_pred)"
      ],
      "metadata": {
        "colab": {
          "base_uri": "https://localhost:8080/"
        },
        "id": "83Eu0XPIRij6",
        "outputId": "3559ea7c-54b2-4885-c9eb-e244eb401862"
      },
      "execution_count": 47,
      "outputs": [
        {
          "output_type": "execute_result",
          "data": {
            "text/plain": [
              "0.23238731612544472"
            ]
          },
          "metadata": {},
          "execution_count": 47
        }
      ]
    },
    {
      "cell_type": "markdown",
      "source": [
        "---"
      ],
      "metadata": {
        "id": "iYIy38ty9qhK"
      }
    },
    {
      "cell_type": "code",
      "source": [
        "total_df_og = total_df"
      ],
      "metadata": {
        "id": "RMJw6JnwANfP"
      },
      "execution_count": 48,
      "outputs": []
    },
    {
      "cell_type": "code",
      "source": [
        "total_df.to_csv('total_df.csv', index=False)"
      ],
      "metadata": {
        "id": "SVaS5JcMAlJN"
      },
      "execution_count": 49,
      "outputs": []
    },
    {
      "cell_type": "code",
      "source": [
        "total_df"
      ],
      "metadata": {
        "colab": {
          "base_uri": "https://localhost:8080/",
          "height": 424
        },
        "id": "KEe9_0FlAp7u",
        "outputId": "c688b765-6187-4b37-bed0-3826ac39cdb1"
      },
      "execution_count": 50,
      "outputs": [
        {
          "output_type": "execute_result",
          "data": {
            "text/plain": [
              "      leaguePoints  wins  losses      league\n",
              "0              503    94      88  challenger\n",
              "1              726    64      46  challenger\n",
              "2              505   123     112  challenger\n",
              "3              485    67      56  challenger\n",
              "4              503    82      57  challenger\n",
              "...            ...   ...     ...         ...\n",
              "6013           140    99      89      master\n",
              "6014            10    28      25      master\n",
              "6015            20    29      23      master\n",
              "6016            37    47      39      master\n",
              "6017            33    89      89      master\n",
              "\n",
              "[6018 rows x 4 columns]"
            ],
            "text/html": [
              "\n",
              "  <div id=\"df-1426d248-ffb7-49f0-ad3a-2e9c19b06667\">\n",
              "    <div class=\"colab-df-container\">\n",
              "      <div>\n",
              "<style scoped>\n",
              "    .dataframe tbody tr th:only-of-type {\n",
              "        vertical-align: middle;\n",
              "    }\n",
              "\n",
              "    .dataframe tbody tr th {\n",
              "        vertical-align: top;\n",
              "    }\n",
              "\n",
              "    .dataframe thead th {\n",
              "        text-align: right;\n",
              "    }\n",
              "</style>\n",
              "<table border=\"1\" class=\"dataframe\">\n",
              "  <thead>\n",
              "    <tr style=\"text-align: right;\">\n",
              "      <th></th>\n",
              "      <th>leaguePoints</th>\n",
              "      <th>wins</th>\n",
              "      <th>losses</th>\n",
              "      <th>league</th>\n",
              "    </tr>\n",
              "  </thead>\n",
              "  <tbody>\n",
              "    <tr>\n",
              "      <th>0</th>\n",
              "      <td>503</td>\n",
              "      <td>94</td>\n",
              "      <td>88</td>\n",
              "      <td>challenger</td>\n",
              "    </tr>\n",
              "    <tr>\n",
              "      <th>1</th>\n",
              "      <td>726</td>\n",
              "      <td>64</td>\n",
              "      <td>46</td>\n",
              "      <td>challenger</td>\n",
              "    </tr>\n",
              "    <tr>\n",
              "      <th>2</th>\n",
              "      <td>505</td>\n",
              "      <td>123</td>\n",
              "      <td>112</td>\n",
              "      <td>challenger</td>\n",
              "    </tr>\n",
              "    <tr>\n",
              "      <th>3</th>\n",
              "      <td>485</td>\n",
              "      <td>67</td>\n",
              "      <td>56</td>\n",
              "      <td>challenger</td>\n",
              "    </tr>\n",
              "    <tr>\n",
              "      <th>4</th>\n",
              "      <td>503</td>\n",
              "      <td>82</td>\n",
              "      <td>57</td>\n",
              "      <td>challenger</td>\n",
              "    </tr>\n",
              "    <tr>\n",
              "      <th>...</th>\n",
              "      <td>...</td>\n",
              "      <td>...</td>\n",
              "      <td>...</td>\n",
              "      <td>...</td>\n",
              "    </tr>\n",
              "    <tr>\n",
              "      <th>6013</th>\n",
              "      <td>140</td>\n",
              "      <td>99</td>\n",
              "      <td>89</td>\n",
              "      <td>master</td>\n",
              "    </tr>\n",
              "    <tr>\n",
              "      <th>6014</th>\n",
              "      <td>10</td>\n",
              "      <td>28</td>\n",
              "      <td>25</td>\n",
              "      <td>master</td>\n",
              "    </tr>\n",
              "    <tr>\n",
              "      <th>6015</th>\n",
              "      <td>20</td>\n",
              "      <td>29</td>\n",
              "      <td>23</td>\n",
              "      <td>master</td>\n",
              "    </tr>\n",
              "    <tr>\n",
              "      <th>6016</th>\n",
              "      <td>37</td>\n",
              "      <td>47</td>\n",
              "      <td>39</td>\n",
              "      <td>master</td>\n",
              "    </tr>\n",
              "    <tr>\n",
              "      <th>6017</th>\n",
              "      <td>33</td>\n",
              "      <td>89</td>\n",
              "      <td>89</td>\n",
              "      <td>master</td>\n",
              "    </tr>\n",
              "  </tbody>\n",
              "</table>\n",
              "<p>6018 rows × 4 columns</p>\n",
              "</div>\n",
              "      <button class=\"colab-df-convert\" onclick=\"convertToInteractive('df-1426d248-ffb7-49f0-ad3a-2e9c19b06667')\"\n",
              "              title=\"Convert this dataframe to an interactive table.\"\n",
              "              style=\"display:none;\">\n",
              "        \n",
              "  <svg xmlns=\"http://www.w3.org/2000/svg\" height=\"24px\"viewBox=\"0 0 24 24\"\n",
              "       width=\"24px\">\n",
              "    <path d=\"M0 0h24v24H0V0z\" fill=\"none\"/>\n",
              "    <path d=\"M18.56 5.44l.94 2.06.94-2.06 2.06-.94-2.06-.94-.94-2.06-.94 2.06-2.06.94zm-11 1L8.5 8.5l.94-2.06 2.06-.94-2.06-.94L8.5 2.5l-.94 2.06-2.06.94zm10 10l.94 2.06.94-2.06 2.06-.94-2.06-.94-.94-2.06-.94 2.06-2.06.94z\"/><path d=\"M17.41 7.96l-1.37-1.37c-.4-.4-.92-.59-1.43-.59-.52 0-1.04.2-1.43.59L10.3 9.45l-7.72 7.72c-.78.78-.78 2.05 0 2.83L4 21.41c.39.39.9.59 1.41.59.51 0 1.02-.2 1.41-.59l7.78-7.78 2.81-2.81c.8-.78.8-2.07 0-2.86zM5.41 20L4 18.59l7.72-7.72 1.47 1.35L5.41 20z\"/>\n",
              "  </svg>\n",
              "      </button>\n",
              "      \n",
              "  <style>\n",
              "    .colab-df-container {\n",
              "      display:flex;\n",
              "      flex-wrap:wrap;\n",
              "      gap: 12px;\n",
              "    }\n",
              "\n",
              "    .colab-df-convert {\n",
              "      background-color: #E8F0FE;\n",
              "      border: none;\n",
              "      border-radius: 50%;\n",
              "      cursor: pointer;\n",
              "      display: none;\n",
              "      fill: #1967D2;\n",
              "      height: 32px;\n",
              "      padding: 0 0 0 0;\n",
              "      width: 32px;\n",
              "    }\n",
              "\n",
              "    .colab-df-convert:hover {\n",
              "      background-color: #E2EBFA;\n",
              "      box-shadow: 0px 1px 2px rgba(60, 64, 67, 0.3), 0px 1px 3px 1px rgba(60, 64, 67, 0.15);\n",
              "      fill: #174EA6;\n",
              "    }\n",
              "\n",
              "    [theme=dark] .colab-df-convert {\n",
              "      background-color: #3B4455;\n",
              "      fill: #D2E3FC;\n",
              "    }\n",
              "\n",
              "    [theme=dark] .colab-df-convert:hover {\n",
              "      background-color: #434B5C;\n",
              "      box-shadow: 0px 1px 3px 1px rgba(0, 0, 0, 0.15);\n",
              "      filter: drop-shadow(0px 1px 2px rgba(0, 0, 0, 0.3));\n",
              "      fill: #FFFFFF;\n",
              "    }\n",
              "  </style>\n",
              "\n",
              "      <script>\n",
              "        const buttonEl =\n",
              "          document.querySelector('#df-1426d248-ffb7-49f0-ad3a-2e9c19b06667 button.colab-df-convert');\n",
              "        buttonEl.style.display =\n",
              "          google.colab.kernel.accessAllowed ? 'block' : 'none';\n",
              "\n",
              "        async function convertToInteractive(key) {\n",
              "          const element = document.querySelector('#df-1426d248-ffb7-49f0-ad3a-2e9c19b06667');\n",
              "          const dataTable =\n",
              "            await google.colab.kernel.invokeFunction('convertToInteractive',\n",
              "                                                     [key], {});\n",
              "          if (!dataTable) return;\n",
              "\n",
              "          const docLinkHtml = 'Like what you see? Visit the ' +\n",
              "            '<a target=\"_blank\" href=https://colab.research.google.com/notebooks/data_table.ipynb>data table notebook</a>'\n",
              "            + ' to learn more about interactive tables.';\n",
              "          element.innerHTML = '';\n",
              "          dataTable['output_type'] = 'display_data';\n",
              "          await google.colab.output.renderOutput(dataTable, element);\n",
              "          const docLink = document.createElement('div');\n",
              "          docLink.innerHTML = docLinkHtml;\n",
              "          element.appendChild(docLink);\n",
              "        }\n",
              "      </script>\n",
              "    </div>\n",
              "  </div>\n",
              "  "
            ]
          },
          "metadata": {},
          "execution_count": 50
        }
      ]
    },
    {
      "cell_type": "code",
      "source": [
        "from sklearn.model_selection import train_test_split\n",
        "from sklearn.linear_model import LinearRegression\n",
        "from sklearn.metrics import r2_score\n",
        "\n",
        "# 데이터 불러오기\n",
        "total_df = pd.read_csv('total_df.csv')\n",
        "\n",
        "# 'league' 칼럼 제거\n",
        "total_df = total_df.drop(['league'], axis=1)\n",
        "\n",
        "# 훈련셋과 테스트셋 나누기\n",
        "X_train, X_test, y_train, y_test = train_test_split(total_df.drop('leaguePoints', axis=1), total_df['leaguePoints'], test_size=0.2, random_state=42)\n",
        "\n",
        "# 선형 회귀 모델 객체 생성 및 학습\n",
        "lr = LinearRegression()\n",
        "lr.fit(X_train, y_train)\n",
        "\n",
        "# 테스트셋 예측\n",
        "y_pred = lr.predict(X_test)\n",
        "\n",
        "# R2 score 계산\n",
        "r2 = r2_score(y_test, y_pred)\n",
        "print('R2 Score:', r2)\n"
      ],
      "metadata": {
        "colab": {
          "base_uri": "https://localhost:8080/"
        },
        "id": "Atv2ToDJARK_",
        "outputId": "bbe7e75c-e1fd-46fd-afe3-3759326614b1"
      },
      "execution_count": 51,
      "outputs": [
        {
          "output_type": "stream",
          "name": "stdout",
          "text": [
            "R2 Score: 0.23238731612544472\n"
          ]
        }
      ]
    },
    {
      "cell_type": "markdown",
      "source": [
        "---"
      ],
      "metadata": {
        "id": "zXK91VdSEYqp"
      }
    },
    {
      "cell_type": "code",
      "source": [
        "total_df['winRate'] = total_df['wins'] / (total_df['wins'] + total_df['losses'])"
      ],
      "metadata": {
        "id": "GkSal1imEZDO"
      },
      "execution_count": 55,
      "outputs": []
    },
    {
      "cell_type": "code",
      "source": [
        "total_df"
      ],
      "metadata": {
        "colab": {
          "base_uri": "https://localhost:8080/",
          "height": 424
        },
        "id": "8lkkbfaLFZAl",
        "outputId": "6b283329-dfa0-46bc-886a-f5df176a5991"
      },
      "execution_count": 56,
      "outputs": [
        {
          "output_type": "execute_result",
          "data": {
            "text/plain": [
              "      leaguePoints  wins  losses   winRate\n",
              "0              503    94      88  0.516484\n",
              "1              726    64      46  0.581818\n",
              "2              505   123     112  0.523404\n",
              "3              485    67      56  0.544715\n",
              "4              503    82      57  0.589928\n",
              "...            ...   ...     ...       ...\n",
              "6013           140    99      89  0.526596\n",
              "6014            10    28      25  0.528302\n",
              "6015            20    29      23  0.557692\n",
              "6016            37    47      39  0.546512\n",
              "6017            33    89      89  0.500000\n",
              "\n",
              "[6018 rows x 4 columns]"
            ],
            "text/html": [
              "\n",
              "  <div id=\"df-966f23d5-a9fb-4ff6-ac5e-617776da112c\">\n",
              "    <div class=\"colab-df-container\">\n",
              "      <div>\n",
              "<style scoped>\n",
              "    .dataframe tbody tr th:only-of-type {\n",
              "        vertical-align: middle;\n",
              "    }\n",
              "\n",
              "    .dataframe tbody tr th {\n",
              "        vertical-align: top;\n",
              "    }\n",
              "\n",
              "    .dataframe thead th {\n",
              "        text-align: right;\n",
              "    }\n",
              "</style>\n",
              "<table border=\"1\" class=\"dataframe\">\n",
              "  <thead>\n",
              "    <tr style=\"text-align: right;\">\n",
              "      <th></th>\n",
              "      <th>leaguePoints</th>\n",
              "      <th>wins</th>\n",
              "      <th>losses</th>\n",
              "      <th>winRate</th>\n",
              "    </tr>\n",
              "  </thead>\n",
              "  <tbody>\n",
              "    <tr>\n",
              "      <th>0</th>\n",
              "      <td>503</td>\n",
              "      <td>94</td>\n",
              "      <td>88</td>\n",
              "      <td>0.516484</td>\n",
              "    </tr>\n",
              "    <tr>\n",
              "      <th>1</th>\n",
              "      <td>726</td>\n",
              "      <td>64</td>\n",
              "      <td>46</td>\n",
              "      <td>0.581818</td>\n",
              "    </tr>\n",
              "    <tr>\n",
              "      <th>2</th>\n",
              "      <td>505</td>\n",
              "      <td>123</td>\n",
              "      <td>112</td>\n",
              "      <td>0.523404</td>\n",
              "    </tr>\n",
              "    <tr>\n",
              "      <th>3</th>\n",
              "      <td>485</td>\n",
              "      <td>67</td>\n",
              "      <td>56</td>\n",
              "      <td>0.544715</td>\n",
              "    </tr>\n",
              "    <tr>\n",
              "      <th>4</th>\n",
              "      <td>503</td>\n",
              "      <td>82</td>\n",
              "      <td>57</td>\n",
              "      <td>0.589928</td>\n",
              "    </tr>\n",
              "    <tr>\n",
              "      <th>...</th>\n",
              "      <td>...</td>\n",
              "      <td>...</td>\n",
              "      <td>...</td>\n",
              "      <td>...</td>\n",
              "    </tr>\n",
              "    <tr>\n",
              "      <th>6013</th>\n",
              "      <td>140</td>\n",
              "      <td>99</td>\n",
              "      <td>89</td>\n",
              "      <td>0.526596</td>\n",
              "    </tr>\n",
              "    <tr>\n",
              "      <th>6014</th>\n",
              "      <td>10</td>\n",
              "      <td>28</td>\n",
              "      <td>25</td>\n",
              "      <td>0.528302</td>\n",
              "    </tr>\n",
              "    <tr>\n",
              "      <th>6015</th>\n",
              "      <td>20</td>\n",
              "      <td>29</td>\n",
              "      <td>23</td>\n",
              "      <td>0.557692</td>\n",
              "    </tr>\n",
              "    <tr>\n",
              "      <th>6016</th>\n",
              "      <td>37</td>\n",
              "      <td>47</td>\n",
              "      <td>39</td>\n",
              "      <td>0.546512</td>\n",
              "    </tr>\n",
              "    <tr>\n",
              "      <th>6017</th>\n",
              "      <td>33</td>\n",
              "      <td>89</td>\n",
              "      <td>89</td>\n",
              "      <td>0.500000</td>\n",
              "    </tr>\n",
              "  </tbody>\n",
              "</table>\n",
              "<p>6018 rows × 4 columns</p>\n",
              "</div>\n",
              "      <button class=\"colab-df-convert\" onclick=\"convertToInteractive('df-966f23d5-a9fb-4ff6-ac5e-617776da112c')\"\n",
              "              title=\"Convert this dataframe to an interactive table.\"\n",
              "              style=\"display:none;\">\n",
              "        \n",
              "  <svg xmlns=\"http://www.w3.org/2000/svg\" height=\"24px\"viewBox=\"0 0 24 24\"\n",
              "       width=\"24px\">\n",
              "    <path d=\"M0 0h24v24H0V0z\" fill=\"none\"/>\n",
              "    <path d=\"M18.56 5.44l.94 2.06.94-2.06 2.06-.94-2.06-.94-.94-2.06-.94 2.06-2.06.94zm-11 1L8.5 8.5l.94-2.06 2.06-.94-2.06-.94L8.5 2.5l-.94 2.06-2.06.94zm10 10l.94 2.06.94-2.06 2.06-.94-2.06-.94-.94-2.06-.94 2.06-2.06.94z\"/><path d=\"M17.41 7.96l-1.37-1.37c-.4-.4-.92-.59-1.43-.59-.52 0-1.04.2-1.43.59L10.3 9.45l-7.72 7.72c-.78.78-.78 2.05 0 2.83L4 21.41c.39.39.9.59 1.41.59.51 0 1.02-.2 1.41-.59l7.78-7.78 2.81-2.81c.8-.78.8-2.07 0-2.86zM5.41 20L4 18.59l7.72-7.72 1.47 1.35L5.41 20z\"/>\n",
              "  </svg>\n",
              "      </button>\n",
              "      \n",
              "  <style>\n",
              "    .colab-df-container {\n",
              "      display:flex;\n",
              "      flex-wrap:wrap;\n",
              "      gap: 12px;\n",
              "    }\n",
              "\n",
              "    .colab-df-convert {\n",
              "      background-color: #E8F0FE;\n",
              "      border: none;\n",
              "      border-radius: 50%;\n",
              "      cursor: pointer;\n",
              "      display: none;\n",
              "      fill: #1967D2;\n",
              "      height: 32px;\n",
              "      padding: 0 0 0 0;\n",
              "      width: 32px;\n",
              "    }\n",
              "\n",
              "    .colab-df-convert:hover {\n",
              "      background-color: #E2EBFA;\n",
              "      box-shadow: 0px 1px 2px rgba(60, 64, 67, 0.3), 0px 1px 3px 1px rgba(60, 64, 67, 0.15);\n",
              "      fill: #174EA6;\n",
              "    }\n",
              "\n",
              "    [theme=dark] .colab-df-convert {\n",
              "      background-color: #3B4455;\n",
              "      fill: #D2E3FC;\n",
              "    }\n",
              "\n",
              "    [theme=dark] .colab-df-convert:hover {\n",
              "      background-color: #434B5C;\n",
              "      box-shadow: 0px 1px 3px 1px rgba(0, 0, 0, 0.15);\n",
              "      filter: drop-shadow(0px 1px 2px rgba(0, 0, 0, 0.3));\n",
              "      fill: #FFFFFF;\n",
              "    }\n",
              "  </style>\n",
              "\n",
              "      <script>\n",
              "        const buttonEl =\n",
              "          document.querySelector('#df-966f23d5-a9fb-4ff6-ac5e-617776da112c button.colab-df-convert');\n",
              "        buttonEl.style.display =\n",
              "          google.colab.kernel.accessAllowed ? 'block' : 'none';\n",
              "\n",
              "        async function convertToInteractive(key) {\n",
              "          const element = document.querySelector('#df-966f23d5-a9fb-4ff6-ac5e-617776da112c');\n",
              "          const dataTable =\n",
              "            await google.colab.kernel.invokeFunction('convertToInteractive',\n",
              "                                                     [key], {});\n",
              "          if (!dataTable) return;\n",
              "\n",
              "          const docLinkHtml = 'Like what you see? Visit the ' +\n",
              "            '<a target=\"_blank\" href=https://colab.research.google.com/notebooks/data_table.ipynb>data table notebook</a>'\n",
              "            + ' to learn more about interactive tables.';\n",
              "          element.innerHTML = '';\n",
              "          dataTable['output_type'] = 'display_data';\n",
              "          await google.colab.output.renderOutput(dataTable, element);\n",
              "          const docLink = document.createElement('div');\n",
              "          docLink.innerHTML = docLinkHtml;\n",
              "          element.appendChild(docLink);\n",
              "        }\n",
              "      </script>\n",
              "    </div>\n",
              "  </div>\n",
              "  "
            ]
          },
          "metadata": {},
          "execution_count": 56
        }
      ]
    },
    {
      "cell_type": "code",
      "source": [
        "from sklearn.model_selection import train_test_split\n",
        "\n",
        "# train set과 test set으로 데이터셋 분리\n",
        "train_df, test_df = train_test_split(total_df, test_size=0.2, random_state=42)"
      ],
      "metadata": {
        "id": "Ex3vLIXjHBOu"
      },
      "execution_count": 57,
      "outputs": []
    },
    {
      "cell_type": "code",
      "source": [
        "total_df = total_df_og"
      ],
      "metadata": {
        "id": "X2eyfINbHSXM"
      },
      "execution_count": 59,
      "outputs": []
    },
    {
      "cell_type": "code",
      "source": [
        "from sklearn.preprocessing import LabelEncoder\n",
        "\n",
        "le = LabelEncoder()\n",
        "total_df['league_encoded'] = le.fit_transform(total_df['league'])"
      ],
      "metadata": {
        "id": "mbv8WrKvHfmp"
      },
      "execution_count": 61,
      "outputs": []
    },
    {
      "cell_type": "code",
      "source": [
        "# 머신러닝 모델 초기화\n",
        "lr_model = LinearRegression()\n",
        "\n",
        "# 학습에 사용할 특성(feature) 선택\n",
        "# 여기에서는 'leaguePoints', 'wins', 'losses', 'winRate' 4가지를 사용합니다.\n",
        "features = ['leaguePoints', 'wins', 'losses', 'winRate']\n",
        "X_train = train_df[features]\n",
        "y_train = train_df['winRate']\n",
        "\n",
        "# 모델 학습\n",
        "lr_model.fit(X_train, y_train)"
      ],
      "metadata": {
        "colab": {
          "base_uri": "https://localhost:8080/",
          "height": 75
        },
        "id": "xzkFTte-HDer",
        "outputId": "3466d592-bede-4869-a8ca-407c35013e1c"
      },
      "execution_count": 63,
      "outputs": [
        {
          "output_type": "execute_result",
          "data": {
            "text/plain": [
              "LinearRegression()"
            ],
            "text/html": [
              "<style>#sk-container-id-3 {color: black;background-color: white;}#sk-container-id-3 pre{padding: 0;}#sk-container-id-3 div.sk-toggleable {background-color: white;}#sk-container-id-3 label.sk-toggleable__label {cursor: pointer;display: block;width: 100%;margin-bottom: 0;padding: 0.3em;box-sizing: border-box;text-align: center;}#sk-container-id-3 label.sk-toggleable__label-arrow:before {content: \"▸\";float: left;margin-right: 0.25em;color: #696969;}#sk-container-id-3 label.sk-toggleable__label-arrow:hover:before {color: black;}#sk-container-id-3 div.sk-estimator:hover label.sk-toggleable__label-arrow:before {color: black;}#sk-container-id-3 div.sk-toggleable__content {max-height: 0;max-width: 0;overflow: hidden;text-align: left;background-color: #f0f8ff;}#sk-container-id-3 div.sk-toggleable__content pre {margin: 0.2em;color: black;border-radius: 0.25em;background-color: #f0f8ff;}#sk-container-id-3 input.sk-toggleable__control:checked~div.sk-toggleable__content {max-height: 200px;max-width: 100%;overflow: auto;}#sk-container-id-3 input.sk-toggleable__control:checked~label.sk-toggleable__label-arrow:before {content: \"▾\";}#sk-container-id-3 div.sk-estimator input.sk-toggleable__control:checked~label.sk-toggleable__label {background-color: #d4ebff;}#sk-container-id-3 div.sk-label input.sk-toggleable__control:checked~label.sk-toggleable__label {background-color: #d4ebff;}#sk-container-id-3 input.sk-hidden--visually {border: 0;clip: rect(1px 1px 1px 1px);clip: rect(1px, 1px, 1px, 1px);height: 1px;margin: -1px;overflow: hidden;padding: 0;position: absolute;width: 1px;}#sk-container-id-3 div.sk-estimator {font-family: monospace;background-color: #f0f8ff;border: 1px dotted black;border-radius: 0.25em;box-sizing: border-box;margin-bottom: 0.5em;}#sk-container-id-3 div.sk-estimator:hover {background-color: #d4ebff;}#sk-container-id-3 div.sk-parallel-item::after {content: \"\";width: 100%;border-bottom: 1px solid gray;flex-grow: 1;}#sk-container-id-3 div.sk-label:hover label.sk-toggleable__label {background-color: #d4ebff;}#sk-container-id-3 div.sk-serial::before {content: \"\";position: absolute;border-left: 1px solid gray;box-sizing: border-box;top: 0;bottom: 0;left: 50%;z-index: 0;}#sk-container-id-3 div.sk-serial {display: flex;flex-direction: column;align-items: center;background-color: white;padding-right: 0.2em;padding-left: 0.2em;position: relative;}#sk-container-id-3 div.sk-item {position: relative;z-index: 1;}#sk-container-id-3 div.sk-parallel {display: flex;align-items: stretch;justify-content: center;background-color: white;position: relative;}#sk-container-id-3 div.sk-item::before, #sk-container-id-3 div.sk-parallel-item::before {content: \"\";position: absolute;border-left: 1px solid gray;box-sizing: border-box;top: 0;bottom: 0;left: 50%;z-index: -1;}#sk-container-id-3 div.sk-parallel-item {display: flex;flex-direction: column;z-index: 1;position: relative;background-color: white;}#sk-container-id-3 div.sk-parallel-item:first-child::after {align-self: flex-end;width: 50%;}#sk-container-id-3 div.sk-parallel-item:last-child::after {align-self: flex-start;width: 50%;}#sk-container-id-3 div.sk-parallel-item:only-child::after {width: 0;}#sk-container-id-3 div.sk-dashed-wrapped {border: 1px dashed gray;margin: 0 0.4em 0.5em 0.4em;box-sizing: border-box;padding-bottom: 0.4em;background-color: white;}#sk-container-id-3 div.sk-label label {font-family: monospace;font-weight: bold;display: inline-block;line-height: 1.2em;}#sk-container-id-3 div.sk-label-container {text-align: center;}#sk-container-id-3 div.sk-container {/* jupyter's `normalize.less` sets `[hidden] { display: none; }` but bootstrap.min.css set `[hidden] { display: none !important; }` so we also need the `!important` here to be able to override the default hidden behavior on the sphinx rendered scikit-learn.org. See: https://github.com/scikit-learn/scikit-learn/issues/21755 */display: inline-block !important;position: relative;}#sk-container-id-3 div.sk-text-repr-fallback {display: none;}</style><div id=\"sk-container-id-3\" class=\"sk-top-container\"><div class=\"sk-text-repr-fallback\"><pre>LinearRegression()</pre><b>In a Jupyter environment, please rerun this cell to show the HTML representation or trust the notebook. <br />On GitHub, the HTML representation is unable to render, please try loading this page with nbviewer.org.</b></div><div class=\"sk-container\" hidden><div class=\"sk-item\"><div class=\"sk-estimator sk-toggleable\"><input class=\"sk-toggleable__control sk-hidden--visually\" id=\"sk-estimator-id-3\" type=\"checkbox\" checked><label for=\"sk-estimator-id-3\" class=\"sk-toggleable__label sk-toggleable__label-arrow\">LinearRegression</label><div class=\"sk-toggleable__content\"><pre>LinearRegression()</pre></div></div></div></div></div>"
            ]
          },
          "metadata": {},
          "execution_count": 63
        }
      ]
    },
    {
      "cell_type": "code",
      "source": [
        "from sklearn.metrics import mean_absolute_error\n",
        "\n",
        "# test set에서 예측 성능 평가를 위한 특성(feature) 선택\n",
        "X_test = test_df[features]\n",
        "y_test = test_df['wins']\n",
        "\n",
        "# 예측 결과 도출\n",
        "y_pred = lr_model.predict(X_test)\n",
        "\n",
        "# 평가 지표인 MAE(Mean Absolute Error) 계산\n",
        "mae = mean_absolute_error(y_test, y_pred)\n",
        "print('MAE:', mae)\n"
      ],
      "metadata": {
        "colab": {
          "base_uri": "https://localhost:8080/"
        },
        "id": "gFIxCqufIIYT",
        "outputId": "ea67b893-0b59-44b9-ab64-aea0f79369cf"
      },
      "execution_count": 65,
      "outputs": [
        {
          "output_type": "stream",
          "name": "stdout",
          "text": [
            "MAE: 60.18809736129383\n"
          ]
        }
      ]
    },
    {
      "cell_type": "code",
      "source": [
        "total_df['winRate'] = total_df['wins'] / (total_df['wins'] + total_df['losses'])"
      ],
      "metadata": {
        "id": "AtSqwYK8MlAi"
      },
      "execution_count": 69,
      "outputs": []
    },
    {
      "cell_type": "code",
      "source": [
        "total_df"
      ],
      "metadata": {
        "colab": {
          "base_uri": "https://localhost:8080/",
          "height": 424
        },
        "id": "Mpe01ZBnMWmQ",
        "outputId": "ab7f2f94-58a3-4b7d-dfe9-387e2fbd86a4"
      },
      "execution_count": 70,
      "outputs": [
        {
          "output_type": "execute_result",
          "data": {
            "text/plain": [
              "      leaguePoints  wins  losses      league  league_encoded   winRate\n",
              "0              503    94      88  challenger               0  0.516484\n",
              "1              726    64      46  challenger               0  0.581818\n",
              "2              505   123     112  challenger               0  0.523404\n",
              "3              485    67      56  challenger               0  0.544715\n",
              "4              503    82      57  challenger               0  0.589928\n",
              "...            ...   ...     ...         ...             ...       ...\n",
              "6013           140    99      89      master               2  0.526596\n",
              "6014            10    28      25      master               2  0.528302\n",
              "6015            20    29      23      master               2  0.557692\n",
              "6016            37    47      39      master               2  0.546512\n",
              "6017            33    89      89      master               2  0.500000\n",
              "\n",
              "[6018 rows x 6 columns]"
            ],
            "text/html": [
              "\n",
              "  <div id=\"df-300f5154-57ca-472c-bba5-52d1b1b40944\">\n",
              "    <div class=\"colab-df-container\">\n",
              "      <div>\n",
              "<style scoped>\n",
              "    .dataframe tbody tr th:only-of-type {\n",
              "        vertical-align: middle;\n",
              "    }\n",
              "\n",
              "    .dataframe tbody tr th {\n",
              "        vertical-align: top;\n",
              "    }\n",
              "\n",
              "    .dataframe thead th {\n",
              "        text-align: right;\n",
              "    }\n",
              "</style>\n",
              "<table border=\"1\" class=\"dataframe\">\n",
              "  <thead>\n",
              "    <tr style=\"text-align: right;\">\n",
              "      <th></th>\n",
              "      <th>leaguePoints</th>\n",
              "      <th>wins</th>\n",
              "      <th>losses</th>\n",
              "      <th>league</th>\n",
              "      <th>league_encoded</th>\n",
              "      <th>winRate</th>\n",
              "    </tr>\n",
              "  </thead>\n",
              "  <tbody>\n",
              "    <tr>\n",
              "      <th>0</th>\n",
              "      <td>503</td>\n",
              "      <td>94</td>\n",
              "      <td>88</td>\n",
              "      <td>challenger</td>\n",
              "      <td>0</td>\n",
              "      <td>0.516484</td>\n",
              "    </tr>\n",
              "    <tr>\n",
              "      <th>1</th>\n",
              "      <td>726</td>\n",
              "      <td>64</td>\n",
              "      <td>46</td>\n",
              "      <td>challenger</td>\n",
              "      <td>0</td>\n",
              "      <td>0.581818</td>\n",
              "    </tr>\n",
              "    <tr>\n",
              "      <th>2</th>\n",
              "      <td>505</td>\n",
              "      <td>123</td>\n",
              "      <td>112</td>\n",
              "      <td>challenger</td>\n",
              "      <td>0</td>\n",
              "      <td>0.523404</td>\n",
              "    </tr>\n",
              "    <tr>\n",
              "      <th>3</th>\n",
              "      <td>485</td>\n",
              "      <td>67</td>\n",
              "      <td>56</td>\n",
              "      <td>challenger</td>\n",
              "      <td>0</td>\n",
              "      <td>0.544715</td>\n",
              "    </tr>\n",
              "    <tr>\n",
              "      <th>4</th>\n",
              "      <td>503</td>\n",
              "      <td>82</td>\n",
              "      <td>57</td>\n",
              "      <td>challenger</td>\n",
              "      <td>0</td>\n",
              "      <td>0.589928</td>\n",
              "    </tr>\n",
              "    <tr>\n",
              "      <th>...</th>\n",
              "      <td>...</td>\n",
              "      <td>...</td>\n",
              "      <td>...</td>\n",
              "      <td>...</td>\n",
              "      <td>...</td>\n",
              "      <td>...</td>\n",
              "    </tr>\n",
              "    <tr>\n",
              "      <th>6013</th>\n",
              "      <td>140</td>\n",
              "      <td>99</td>\n",
              "      <td>89</td>\n",
              "      <td>master</td>\n",
              "      <td>2</td>\n",
              "      <td>0.526596</td>\n",
              "    </tr>\n",
              "    <tr>\n",
              "      <th>6014</th>\n",
              "      <td>10</td>\n",
              "      <td>28</td>\n",
              "      <td>25</td>\n",
              "      <td>master</td>\n",
              "      <td>2</td>\n",
              "      <td>0.528302</td>\n",
              "    </tr>\n",
              "    <tr>\n",
              "      <th>6015</th>\n",
              "      <td>20</td>\n",
              "      <td>29</td>\n",
              "      <td>23</td>\n",
              "      <td>master</td>\n",
              "      <td>2</td>\n",
              "      <td>0.557692</td>\n",
              "    </tr>\n",
              "    <tr>\n",
              "      <th>6016</th>\n",
              "      <td>37</td>\n",
              "      <td>47</td>\n",
              "      <td>39</td>\n",
              "      <td>master</td>\n",
              "      <td>2</td>\n",
              "      <td>0.546512</td>\n",
              "    </tr>\n",
              "    <tr>\n",
              "      <th>6017</th>\n",
              "      <td>33</td>\n",
              "      <td>89</td>\n",
              "      <td>89</td>\n",
              "      <td>master</td>\n",
              "      <td>2</td>\n",
              "      <td>0.500000</td>\n",
              "    </tr>\n",
              "  </tbody>\n",
              "</table>\n",
              "<p>6018 rows × 6 columns</p>\n",
              "</div>\n",
              "      <button class=\"colab-df-convert\" onclick=\"convertToInteractive('df-300f5154-57ca-472c-bba5-52d1b1b40944')\"\n",
              "              title=\"Convert this dataframe to an interactive table.\"\n",
              "              style=\"display:none;\">\n",
              "        \n",
              "  <svg xmlns=\"http://www.w3.org/2000/svg\" height=\"24px\"viewBox=\"0 0 24 24\"\n",
              "       width=\"24px\">\n",
              "    <path d=\"M0 0h24v24H0V0z\" fill=\"none\"/>\n",
              "    <path d=\"M18.56 5.44l.94 2.06.94-2.06 2.06-.94-2.06-.94-.94-2.06-.94 2.06-2.06.94zm-11 1L8.5 8.5l.94-2.06 2.06-.94-2.06-.94L8.5 2.5l-.94 2.06-2.06.94zm10 10l.94 2.06.94-2.06 2.06-.94-2.06-.94-.94-2.06-.94 2.06-2.06.94z\"/><path d=\"M17.41 7.96l-1.37-1.37c-.4-.4-.92-.59-1.43-.59-.52 0-1.04.2-1.43.59L10.3 9.45l-7.72 7.72c-.78.78-.78 2.05 0 2.83L4 21.41c.39.39.9.59 1.41.59.51 0 1.02-.2 1.41-.59l7.78-7.78 2.81-2.81c.8-.78.8-2.07 0-2.86zM5.41 20L4 18.59l7.72-7.72 1.47 1.35L5.41 20z\"/>\n",
              "  </svg>\n",
              "      </button>\n",
              "      \n",
              "  <style>\n",
              "    .colab-df-container {\n",
              "      display:flex;\n",
              "      flex-wrap:wrap;\n",
              "      gap: 12px;\n",
              "    }\n",
              "\n",
              "    .colab-df-convert {\n",
              "      background-color: #E8F0FE;\n",
              "      border: none;\n",
              "      border-radius: 50%;\n",
              "      cursor: pointer;\n",
              "      display: none;\n",
              "      fill: #1967D2;\n",
              "      height: 32px;\n",
              "      padding: 0 0 0 0;\n",
              "      width: 32px;\n",
              "    }\n",
              "\n",
              "    .colab-df-convert:hover {\n",
              "      background-color: #E2EBFA;\n",
              "      box-shadow: 0px 1px 2px rgba(60, 64, 67, 0.3), 0px 1px 3px 1px rgba(60, 64, 67, 0.15);\n",
              "      fill: #174EA6;\n",
              "    }\n",
              "\n",
              "    [theme=dark] .colab-df-convert {\n",
              "      background-color: #3B4455;\n",
              "      fill: #D2E3FC;\n",
              "    }\n",
              "\n",
              "    [theme=dark] .colab-df-convert:hover {\n",
              "      background-color: #434B5C;\n",
              "      box-shadow: 0px 1px 3px 1px rgba(0, 0, 0, 0.15);\n",
              "      filter: drop-shadow(0px 1px 2px rgba(0, 0, 0, 0.3));\n",
              "      fill: #FFFFFF;\n",
              "    }\n",
              "  </style>\n",
              "\n",
              "      <script>\n",
              "        const buttonEl =\n",
              "          document.querySelector('#df-300f5154-57ca-472c-bba5-52d1b1b40944 button.colab-df-convert');\n",
              "        buttonEl.style.display =\n",
              "          google.colab.kernel.accessAllowed ? 'block' : 'none';\n",
              "\n",
              "        async function convertToInteractive(key) {\n",
              "          const element = document.querySelector('#df-300f5154-57ca-472c-bba5-52d1b1b40944');\n",
              "          const dataTable =\n",
              "            await google.colab.kernel.invokeFunction('convertToInteractive',\n",
              "                                                     [key], {});\n",
              "          if (!dataTable) return;\n",
              "\n",
              "          const docLinkHtml = 'Like what you see? Visit the ' +\n",
              "            '<a target=\"_blank\" href=https://colab.research.google.com/notebooks/data_table.ipynb>data table notebook</a>'\n",
              "            + ' to learn more about interactive tables.';\n",
              "          element.innerHTML = '';\n",
              "          dataTable['output_type'] = 'display_data';\n",
              "          await google.colab.output.renderOutput(dataTable, element);\n",
              "          const docLink = document.createElement('div');\n",
              "          docLink.innerHTML = docLinkHtml;\n",
              "          element.appendChild(docLink);\n",
              "        }\n",
              "      </script>\n",
              "    </div>\n",
              "  </div>\n",
              "  "
            ]
          },
          "metadata": {},
          "execution_count": 70
        }
      ]
    },
    {
      "cell_type": "code",
      "source": [
        "import matplotlib.pyplot as plt\n",
        "\n",
        "# 티어별로 winRate 평균 구하기\n",
        "winrate_by_tier = total_df.groupby('league')['winRate'].mean()\n",
        "\n",
        "# 시각화\n",
        "plt.plot(winrate_by_tier.index, winrate_by_tier.values)\n",
        "plt.xlabel('Tier')\n",
        "plt.ylabel('Win Rate')\n",
        "plt.show()"
      ],
      "metadata": {
        "colab": {
          "base_uri": "https://localhost:8080/",
          "height": 449
        },
        "id": "oItyeCGgL5DO",
        "outputId": "e0d444cd-0913-441a-ceb3-ffbd5fe3a80f"
      },
      "execution_count": 75,
      "outputs": [
        {
          "output_type": "display_data",
          "data": {
            "text/plain": [
              "<Figure size 640x480 with 1 Axes>"
            ],
            "image/png": "[encoded data removed]"
          },
          "metadata": {}
        }
      ]
    },
    {
      "cell_type": "code",
      "source": [
        "total_df['pansu'] = total_df['wins'] + total_df['losses']"
      ],
      "metadata": {
        "id": "RefnNT0PUaZg"
      },
      "execution_count": 99,
      "outputs": []
    },
    {
      "cell_type": "code",
      "source": [
        "total_df"
      ],
      "metadata": {
        "colab": {
          "base_uri": "https://localhost:8080/",
          "height": 424
        },
        "id": "tGWer-B6UcMJ",
        "outputId": "5240ddb9-c009-4c8c-fa38-76ca3efd7aa9"
      },
      "execution_count": 100,
      "outputs": [
        {
          "output_type": "execute_result",
          "data": {
            "text/plain": [
              "      leaguePoints  wins  losses      league  league_encoded   winRate  pansu\n",
              "0              503    94      88  challenger               0  0.516484    182\n",
              "1              726    64      46  challenger               0  0.581818    110\n",
              "2              505   123     112  challenger               0  0.523404    235\n",
              "3              485    67      56  challenger               0  0.544715    123\n",
              "4              503    82      57  challenger               0  0.589928    139\n",
              "...            ...   ...     ...         ...             ...       ...    ...\n",
              "6013           140    99      89      master               2  0.526596    188\n",
              "6014            10    28      25      master               2  0.528302     53\n",
              "6015            20    29      23      master               2  0.557692     52\n",
              "6016            37    47      39      master               2  0.546512     86\n",
              "6017            33    89      89      master               2  0.500000    178\n",
              "\n",
              "[6018 rows x 7 columns]"
            ],
            "text/html": [
              "\n",
              "  <div id=\"df-9ba2fad4-0f61-4d15-a42b-183b73e4350c\">\n",
              "    <div class=\"colab-df-container\">\n",
              "      <div>\n",
              "<style scoped>\n",
              "    .dataframe tbody tr th:only-of-type {\n",
              "        vertical-align: middle;\n",
              "    }\n",
              "\n",
              "    .dataframe tbody tr th {\n",
              "        vertical-align: top;\n",
              "    }\n",
              "\n",
              "    .dataframe thead th {\n",
              "        text-align: right;\n",
              "    }\n",
              "</style>\n",
              "<table border=\"1\" class=\"dataframe\">\n",
              "  <thead>\n",
              "    <tr style=\"text-align: right;\">\n",
              "      <th></th>\n",
              "      <th>leaguePoints</th>\n",
              "      <th>wins</th>\n",
              "      <th>losses</th>\n",
              "      <th>league</th>\n",
              "      <th>league_encoded</th>\n",
              "      <th>winRate</th>\n",
              "      <th>pansu</th>\n",
              "    </tr>\n",
              "  </thead>\n",
              "  <tbody>\n",
              "    <tr>\n",
              "      <th>0</th>\n",
              "      <td>503</td>\n",
              "      <td>94</td>\n",
              "      <td>88</td>\n",
              "      <td>challenger</td>\n",
              "      <td>0</td>\n",
              "      <td>0.516484</td>\n",
              "      <td>182</td>\n",
              "    </tr>\n",
              "    <tr>\n",
              "      <th>1</th>\n",
              "      <td>726</td>\n",
              "      <td>64</td>\n",
              "      <td>46</td>\n",
              "      <td>challenger</td>\n",
              "      <td>0</td>\n",
              "      <td>0.581818</td>\n",
              "      <td>110</td>\n",
              "    </tr>\n",
              "    <tr>\n",
              "      <th>2</th>\n",
              "      <td>505</td>\n",
              "      <td>123</td>\n",
              "      <td>112</td>\n",
              "      <td>challenger</td>\n",
              "      <td>0</td>\n",
              "      <td>0.523404</td>\n",
              "      <td>235</td>\n",
              "    </tr>\n",
              "    <tr>\n",
              "      <th>3</th>\n",
              "      <td>485</td>\n",
              "      <td>67</td>\n",
              "      <td>56</td>\n",
              "      <td>challenger</td>\n",
              "      <td>0</td>\n",
              "      <td>0.544715</td>\n",
              "      <td>123</td>\n",
              "    </tr>\n",
              "    <tr>\n",
              "      <th>4</th>\n",
              "      <td>503</td>\n",
              "      <td>82</td>\n",
              "      <td>57</td>\n",
              "      <td>challenger</td>\n",
              "      <td>0</td>\n",
              "      <td>0.589928</td>\n",
              "      <td>139</td>\n",
              "    </tr>\n",
              "    <tr>\n",
              "      <th>...</th>\n",
              "      <td>...</td>\n",
              "      <td>...</td>\n",
              "      <td>...</td>\n",
              "      <td>...</td>\n",
              "      <td>...</td>\n",
              "      <td>...</td>\n",
              "      <td>...</td>\n",
              "    </tr>\n",
              "    <tr>\n",
              "      <th>6013</th>\n",
              "      <td>140</td>\n",
              "      <td>99</td>\n",
              "      <td>89</td>\n",
              "      <td>master</td>\n",
              "      <td>2</td>\n",
              "      <td>0.526596</td>\n",
              "      <td>188</td>\n",
              "    </tr>\n",
              "    <tr>\n",
              "      <th>6014</th>\n",
              "      <td>10</td>\n",
              "      <td>28</td>\n",
              "      <td>25</td>\n",
              "      <td>master</td>\n",
              "      <td>2</td>\n",
              "      <td>0.528302</td>\n",
              "      <td>53</td>\n",
              "    </tr>\n",
              "    <tr>\n",
              "      <th>6015</th>\n",
              "      <td>20</td>\n",
              "      <td>29</td>\n",
              "      <td>23</td>\n",
              "      <td>master</td>\n",
              "      <td>2</td>\n",
              "      <td>0.557692</td>\n",
              "      <td>52</td>\n",
              "    </tr>\n",
              "    <tr>\n",
              "      <th>6016</th>\n",
              "      <td>37</td>\n",
              "      <td>47</td>\n",
              "      <td>39</td>\n",
              "      <td>master</td>\n",
              "      <td>2</td>\n",
              "      <td>0.546512</td>\n",
              "      <td>86</td>\n",
              "    </tr>\n",
              "    <tr>\n",
              "      <th>6017</th>\n",
              "      <td>33</td>\n",
              "      <td>89</td>\n",
              "      <td>89</td>\n",
              "      <td>master</td>\n",
              "      <td>2</td>\n",
              "      <td>0.500000</td>\n",
              "      <td>178</td>\n",
              "    </tr>\n",
              "  </tbody>\n",
              "</table>\n",
              "<p>6018 rows × 7 columns</p>\n",
              "</div>\n",
              "      <button class=\"colab-df-convert\" onclick=\"convertToInteractive('df-9ba2fad4-0f61-4d15-a42b-183b73e4350c')\"\n",
              "              title=\"Convert this dataframe to an interactive table.\"\n",
              "              style=\"display:none;\">\n",
              "        \n",
              "  <svg xmlns=\"http://www.w3.org/2000/svg\" height=\"24px\"viewBox=\"0 0 24 24\"\n",
              "       width=\"24px\">\n",
              "    <path d=\"M0 0h24v24H0V0z\" fill=\"none\"/>\n",
              "    <path d=\"M18.56 5.44l.94 2.06.94-2.06 2.06-.94-2.06-.94-.94-2.06-.94 2.06-2.06.94zm-11 1L8.5 8.5l.94-2.06 2.06-.94-2.06-.94L8.5 2.5l-.94 2.06-2.06.94zm10 10l.94 2.06.94-2.06 2.06-.94-2.06-.94-.94-2.06-.94 2.06-2.06.94z\"/><path d=\"M17.41 7.96l-1.37-1.37c-.4-.4-.92-.59-1.43-.59-.52 0-1.04.2-1.43.59L10.3 9.45l-7.72 7.72c-.78.78-.78 2.05 0 2.83L4 21.41c.39.39.9.59 1.41.59.51 0 1.02-.2 1.41-.59l7.78-7.78 2.81-2.81c.8-.78.8-2.07 0-2.86zM5.41 20L4 18.59l7.72-7.72 1.47 1.35L5.41 20z\"/>\n",
              "  </svg>\n",
              "      </button>\n",
              "      \n",
              "  <style>\n",
              "    .colab-df-container {\n",
              "      display:flex;\n",
              "      flex-wrap:wrap;\n",
              "      gap: 12px;\n",
              "    }\n",
              "\n",
              "    .colab-df-convert {\n",
              "      background-color: #E8F0FE;\n",
              "      border: none;\n",
              "      border-radius: 50%;\n",
              "      cursor: pointer;\n",
              "      display: none;\n",
              "      fill: #1967D2;\n",
              "      height: 32px;\n",
              "      padding: 0 0 0 0;\n",
              "      width: 32px;\n",
              "    }\n",
              "\n",
              "    .colab-df-convert:hover {\n",
              "      background-color: #E2EBFA;\n",
              "      box-shadow: 0px 1px 2px rgba(60, 64, 67, 0.3), 0px 1px 3px 1px rgba(60, 64, 67, 0.15);\n",
              "      fill: #174EA6;\n",
              "    }\n",
              "\n",
              "    [theme=dark] .colab-df-convert {\n",
              "      background-color: #3B4455;\n",
              "      fill: #D2E3FC;\n",
              "    }\n",
              "\n",
              "    [theme=dark] .colab-df-convert:hover {\n",
              "      background-color: #434B5C;\n",
              "      box-shadow: 0px 1px 3px 1px rgba(0, 0, 0, 0.15);\n",
              "      filter: drop-shadow(0px 1px 2px rgba(0, 0, 0, 0.3));\n",
              "      fill: #FFFFFF;\n",
              "    }\n",
              "  </style>\n",
              "\n",
              "      <script>\n",
              "        const buttonEl =\n",
              "          document.querySelector('#df-9ba2fad4-0f61-4d15-a42b-183b73e4350c button.colab-df-convert');\n",
              "        buttonEl.style.display =\n",
              "          google.colab.kernel.accessAllowed ? 'block' : 'none';\n",
              "\n",
              "        async function convertToInteractive(key) {\n",
              "          const element = document.querySelector('#df-9ba2fad4-0f61-4d15-a42b-183b73e4350c');\n",
              "          const dataTable =\n",
              "            await google.colab.kernel.invokeFunction('convertToInteractive',\n",
              "                                                     [key], {});\n",
              "          if (!dataTable) return;\n",
              "\n",
              "          const docLinkHtml = 'Like what you see? Visit the ' +\n",
              "            '<a target=\"_blank\" href=https://colab.research.google.com/notebooks/data_table.ipynb>data table notebook</a>'\n",
              "            + ' to learn more about interactive tables.';\n",
              "          element.innerHTML = '';\n",
              "          dataTable['output_type'] = 'display_data';\n",
              "          await google.colab.output.renderOutput(dataTable, element);\n",
              "          const docLink = document.createElement('div');\n",
              "          docLink.innerHTML = docLinkHtml;\n",
              "          element.appendChild(docLink);\n",
              "        }\n",
              "      </script>\n",
              "    </div>\n",
              "  </div>\n",
              "  "
            ]
          },
          "metadata": {},
          "execution_count": 100
        }
      ]
    },
    {
      "cell_type": "code",
      "source": [
        "import matplotlib.pyplot as plt\n",
        "\n",
        "fig, ax = plt.subplots()\n",
        "\n",
        "# 티어별로 선 그래프를 그리기 위해 for loop 사용\n",
        "for league, color in zip(['challenger', 'grandmaster', 'master'], ['r', 'g', 'b']):\n",
        "    # 각 티어에 해당하는 데이터 추출\n",
        "    league_df = total_df[total_df['league'] == league]\n",
        "    \n",
        "    # x축: 판수, y축: 승률\n",
        "    x = league_df['pansu']\n",
        "    y = league_df['winRate']\n",
        "    \n",
        "    # 선 그래프를 그리기 위해 plot 사용\n",
        "    ax.plot(x, y, color=color, label=league)\n",
        "\n",
        "# 그래프 타이틀과 축 라벨 설정\n",
        "ax.set_title('Win Rate by Tier')\n",
        "ax.set_xlabel('Number of games played')\n",
        "ax.set_ylabel('Win rate')\n",
        "\n",
        "# 범례 추가\n",
        "ax.legend()\n",
        "\n",
        "# 그래프 출력\n",
        "plt.show()\n"
      ],
      "metadata": {
        "colab": {
          "base_uri": "https://localhost:8080/",
          "height": 472
        },
        "id": "n1ya82D0PYph",
        "outputId": "bc420edb-7dee-4c55-886f-d1bf8770bd76"
      },
      "execution_count": 104,
      "outputs": [
        {
          "output_type": "display_data",
          "data": {
            "text/plain": [
              "<Figure size 640x480 with 1 Axes>"
            ],
            "image/png": "[encoded data removed]"
          },
          "metadata": {}
        }
      ]
    },
    {
      "cell_type": "code",
      "source": [
        "from sklearn.preprocessing import StandardScaler\n",
        "from sklearn.cluster import KMeans\n",
        "import seaborn as sns\n",
        "\n",
        "# 데이터 표준화\n",
        "scaler = StandardScaler()\n",
        "total_df[['pansu', 'winRate']] = scaler.fit_transform(total_df[['pansu', 'winRate']])\n",
        "\n",
        "# 클러스터링\n",
        "kmeans = KMeans(n_clusters=3, random_state=0)\n",
        "total_df['cluster'] = kmeans.fit_predict(total_df[['pansu', 'winRate']])\n",
        "\n",
        "# 시각화\n",
        "sns.scatterplot(x='pansu', y='winRate', data=total_df, hue='cluster', palette='bright')\n"
      ],
      "metadata": {
        "colab": {
          "base_uri": "https://localhost:8080/",
          "height": 524
        },
        "id": "3N5lF6BcU-w3",
        "outputId": "8215d417-897f-4359-d735-60ef172558e8"
      },
      "execution_count": 106,
      "outputs": [
        {
          "output_type": "stream",
          "name": "stderr",
          "text": [
            "/usr/local/lib/python3.9/dist-packages/sklearn/cluster/_kmeans.py:870: FutureWarning: The default value of `n_init` will change from 10 to 'auto' in 1.4. Set the value of `n_init` explicitly to suppress the warning\n",
            "  warnings.warn(\n"
          ]
        },
        {
          "output_type": "execute_result",
          "data": {
            "text/plain": [
              "<Axes: xlabel='pansu', ylabel='winRate'>"
            ]
          },
          "metadata": {},
          "execution_count": 106
        },
        {
          "output_type": "display_data",
          "data": {
            "text/plain": [
              "<Figure size 640x480 with 1 Axes>"
            ],
            "image/png": "[encoded data removed]"
          },
          "metadata": {}
        }
      ]
    },
    {
      "cell_type": "markdown",
      "source": [
        "---"
      ],
      "metadata": {
        "id": "hj1uDviXYTfe"
      }
    },
    {
      "cell_type": "code",
      "source": [
        "from sklearn.tree import DecisionTreeClassifier\n",
        "from sklearn.model_selection import train_test_split\n",
        "\n",
        "# 학습에 사용할 칼럼 선택\n",
        "X = total_df[['pansu', 'winRate']]\n",
        "y = total_df['cluster']\n",
        "\n",
        "# 학습 데이터와 테스트 데이터 분리\n",
        "X_train, X_test, y_train, y_test = train_test_split(X, y, test_size=0.2, random_state=42)\n",
        "\n",
        "# 의사결정트리 모델 학습\n",
        "tree = DecisionTreeClassifier(random_state=42)\n",
        "tree.fit(X_train, y_train)\n",
        "\n",
        "# 테스트 데이터에 대한 예측\n",
        "y_pred = tree.predict(X_test)\n"
      ],
      "metadata": {
        "id": "4y2vPSkzYUIt"
      },
      "execution_count": 108,
      "outputs": []
    },
    {
      "cell_type": "code",
      "source": [
        "from sklearn.metrics import accuracy_score\n",
        "\n",
        "accuracy = accuracy_score(y_test, y_pred)\n",
        "print('Accuracy:', accuracy)\n"
      ],
      "metadata": {
        "colab": {
          "base_uri": "https://localhost:8080/"
        },
        "id": "6KZUdHFOYo8H",
        "outputId": "215ba27c-317c-4c6a-b317-e28482a1fcf4"
      },
      "execution_count": 109,
      "outputs": [
        {
          "output_type": "stream",
          "name": "stdout",
          "text": [
            "Accuracy: 0.9966777408637874\n"
          ]
        }
      ]
    },
    {
      "cell_type": "code",
      "source": [
        "import seaborn as sns\n",
        "\n",
        "# scatterplot으로 클러스터링 결과 시각화\n",
        "sns.scatterplot(data=total_df, x='pansu', y='winRate', hue='cluster')\n",
        "\n",
        "# lmplot으로 의사결정 트리 경계 시각화\n",
        "sns.lmplot(data=total_df, x='pansu', y='winRate', hue='league', col='cluster', palette='bright', logistic=True, y_jitter=.03)\n"
      ],
      "metadata": {
        "colab": {
          "base_uri": "https://localhost:8080/",
          "height": 928
        },
        "id": "W3HtpMyUZzji",
        "outputId": "73a1a7cc-4f8b-4b26-a7a5-4ef92571102c"
      },
      "execution_count": 110,
      "outputs": [
        {
          "output_type": "stream",
          "name": "stderr",
          "text": [
            "/usr/local/lib/python3.9/dist-packages/statsmodels/genmod/families/links.py:187: RuntimeWarning: overflow encountered in exp\n",
            "  t = np.exp(-z)\n"
          ]
        },
        {
          "output_type": "execute_result",
          "data": {
            "text/plain": [
              "<seaborn.axisgrid.FacetGrid at 0x7f9348cee9a0>"
            ]
          },
          "metadata": {},
          "execution_count": 110
        },
        {
          "output_type": "display_data",
          "data": {
            "text/plain": [
              "<Figure size 640x480 with 1 Axes>"
            ],
            "image/png": "[encoded data removed]"
          },
          "metadata": {}
        },
        {
          "output_type": "display_data",
          "data": {
            "text/plain": [
              "<Figure size 1639.88x500 with 3 Axes>"
            ],
            "image/png": "[encoded data removed]"
          },
          "metadata": {}
        }
      ]
    },
    {
      "cell_type": "code",
      "source": [
        "from collections import Counter\n",
        "import pandas as pd\n",
        "\n",
        "# 클래스별 예측 개수 구하기\n",
        "pred_counts = dict(Counter(y_pred))\n",
        "\n",
        "# 예측 개수를 데이터프레임으로 변환\n",
        "pred_df = pd.DataFrame.from_dict(pred_counts, orient='index', columns=['count'])\n",
        "\n",
        "# 데이터프레임에 인덱스 이름 추가\n",
        "pred_df.index.name = 'cluster'\n",
        "\n",
        "# 예측 개수를 바 차트로 시각화\n",
        "ax = pred_df.plot(kind='bar', legend=False)\n",
        "ax.set_xlabel('Cluster')\n",
        "ax.set_ylabel('Count')\n",
        "ax.set_title('Predicted clusters')\n"
      ],
      "metadata": {
        "colab": {
          "base_uri": "https://localhost:8080/",
          "height": 485
        },
        "id": "i5CIXf2_behE",
        "outputId": "8e80440e-6b46-4840-d2b6-69f73c2fe733"
      },
      "execution_count": 111,
      "outputs": [
        {
          "output_type": "execute_result",
          "data": {
            "text/plain": [
              "Text(0.5, 1.0, 'Predicted clusters')"
            ]
          },
          "metadata": {},
          "execution_count": 111
        },
        {
          "output_type": "display_data",
          "data": {
            "text/plain": [
              "<Figure size 640x480 with 1 Axes>"
            ],
            "image/png": "[encoded data removed]"
          },
          "metadata": {}
        }
      ]
    },
    {
      "cell_type": "code",
      "source": [
        "import matplotlib.pyplot as plt\n",
        "\n",
        "# 테스트 데이터에 대한 예측 확률\n",
        "y_proba = tree.predict_proba(X_test)\n",
        "\n",
        "# 클래스(티어) 별 예측 확률 합산\n",
        "class_probs = [y_proba[:, i].sum() for i in range(3)]\n",
        "\n",
        "# 파이 차트 생성\n",
        "labels = ['Tier 1', 'Tier 2', 'Tier 3']\n",
        "plt.pie(class_probs, labels=labels, autopct='%1.1f%%', startangle=90)\n",
        "plt.axis('equal')\n",
        "plt.show()\n"
      ],
      "metadata": {
        "colab": {
          "base_uri": "https://localhost:8080/",
          "height": 406
        },
        "id": "_nDqyCRob7-o",
        "outputId": "078eee9c-452c-41f6-e6e6-1098fd1e5b7d"
      },
      "execution_count": 113,
      "outputs": [
        {
          "output_type": "display_data",
          "data": {
            "text/plain": [
              "<Figure size 640x480 with 1 Axes>"
            ],
            "image/png": "[encoded data removed]"
          },
          "metadata": {}
        }
      ]
    }
  ]
}